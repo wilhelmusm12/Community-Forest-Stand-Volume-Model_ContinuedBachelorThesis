{
  "nbformat": 4,
  "nbformat_minor": 0,
  "metadata": {
    "colab": {
      "name": "CommunityForest_Stand_Volume_Modelling.ipynb",
      "provenance": [],
      "collapsed_sections": [],
      "toc_visible": true
    },
    "kernelspec": {
      "name": "python3",
      "display_name": "Python 3"
    },
    "language_info": {
      "name": "python"
    }
  },
  "cells": [
    {
      "cell_type": "code",
      "source": [
        "!pip install --upgrade scipy"
      ],
      "metadata": {
        "colab": {
          "base_uri": "https://localhost:8080/"
        },
        "id": "dKpLpyMfTg0x",
        "outputId": "14eb2936-24b1-41b1-c3f4-2e937d6963ed"
      },
      "execution_count": 104,
      "outputs": [
        {
          "output_type": "stream",
          "name": "stdout",
          "text": [
            "Looking in indexes: https://pypi.org/simple, https://us-python.pkg.dev/colab-wheels/public/simple/\n",
            "Requirement already satisfied: scipy in /usr/local/lib/python3.7/dist-packages (1.7.3)\n",
            "Requirement already satisfied: numpy<1.23.0,>=1.16.5 in /usr/local/lib/python3.7/dist-packages (from scipy) (1.21.6)\n"
          ]
        }
      ]
    },
    {
      "cell_type": "code",
      "execution_count": 105,
      "metadata": {
        "id": "dEl6-IAsqtkc"
      },
      "outputs": [],
      "source": [
        "# Importing modul\n",
        "\n",
        "import numpy as np\n",
        "import pandas as pd\n",
        "import matplotlib.pyplot as plt\n",
        "import seaborn as sns\n",
        "import missingno as mnso\n",
        "import random\n",
        "\n",
        "from sklearn.impute import KNNImputer, SimpleImputer\n",
        "from scipy.stats import skew,skewtest,spearmanr,pearsonr,normaltest\n",
        "from sklearn.preprocessing import RobustScaler,OneHotEncoder, OrdinalEncoder, PolynomialFeatures\n",
        "from sklearn.feature_selection import mutual_info_classif,SelectKBest\n",
        "from sklearn.pipeline import Pipeline\n",
        "from sklearn.pipeline import make_pipeline\n",
        "\n",
        "from xgboost import XGBRegressor\n",
        "from sklearn.tree import DecisionTreeRegressor, plot_tree\n",
        "from sklearn.ensemble import RandomForestRegressor, AdaBoostRegressor, StackingRegressor\n",
        "from sklearn.linear_model import LinearRegression, Ridge, Lasso, ElasticNet\n",
        "from sklearn.metrics import r2_score, mean_squared_error,mean_absolute_error\n",
        "from sklearn.model_selection import train_test_split, cross_validate, KFold, cross_val_score, RandomizedSearchCV, GridSearchCV\n",
        "\n",
        "import warnings\n",
        "warnings.filterwarnings('ignore')\n",
        "pd.set_option('display.max_columns', None)"
      ]
    },
    {
      "cell_type": "markdown",
      "source": [
        "# **Data Understanding**"
      ],
      "metadata": {
        "id": "8WO7k8Fo3nCp"
      }
    },
    {
      "cell_type": "code",
      "source": [
        "# Load Dataset\n",
        "\n",
        "df = pd.read_csv('Data_Observation.csv',sep=';')\n",
        "df"
      ],
      "metadata": {
        "id": "Lt4GM0uNq0QA",
        "colab": {
          "base_uri": "https://localhost:8080/",
          "height": 1000
        },
        "outputId": "12dfb058-9b2d-4d87-ed52-e781451fc564"
      },
      "execution_count": 106,
      "outputs": [
        {
          "output_type": "execute_result",
          "data": {
            "text/plain": [
              "     Slope   NDVI  Volume\n",
              "0   40.313  0.740   4.160\n",
              "1   40.680  0.741   2.922\n",
              "2   14.837  0.332   0.000\n",
              "3    8.904  0.734   0.000\n",
              "4   23.281  0.616   1.682\n",
              "5   10.655  0.639   1.854\n",
              "6   12.656  0.497   0.395\n",
              "7    2.988  0.191   0.000\n",
              "8    1.387  0.628   0.132\n",
              "9   32.786  0.758   5.046\n",
              "10  26.575  0.540   0.417\n",
              "11  65.349  0.703   0.087\n",
              "12  27.248  0.743   0.075\n",
              "13  19.755  0.736   0.906\n",
              "14  38.350  0.739   3.404\n",
              "15  28.919  0.762   3.123\n",
              "16  20.694  0.706   0.990\n",
              "17   4.707  0.125   0.000\n",
              "18  17.089  0.729   0.758\n",
              "19  17.089  0.710   1.029\n",
              "20   8.372  0.710   1.208\n",
              "21   9.056  0.705   1.581\n",
              "22  50.295  0.248   0.000\n",
              "23  11.942  0.646   3.818\n",
              "24  11.726  0.741   3.239\n",
              "25  22.844  0.551   0.296\n",
              "26  23.603  0.765   4.039\n",
              "27  74.035  0.712   4.682\n",
              "28  20.166  0.583   2.088\n",
              "29   7.194  0.610   0.000\n",
              "30  27.659  0.778   0.518\n",
              "31  24.908  0.630   0.398\n",
              "32  21.862  0.590   0.000\n",
              "33  21.174  0.726   1.543\n",
              "34   2.092  0.764   0.391\n",
              "35   6.015  0.709   1.002\n",
              "36  11.993  0.767   0.388\n",
              "37  12.303  0.645   0.478\n",
              "38   6.337  0.471   1.634\n",
              "39   4.669  0.713   1.718\n",
              "40   3.186  0.755   1.154\n",
              "41  11.386  0.717   0.546\n",
              "42   9.690  0.731   0.461\n",
              "43  10.954  0.747   0.441\n",
              "44  17.159  0.642   0.876\n",
              "45  13.189  0.291   0.000\n",
              "46  23.801  0.592   0.769\n",
              "47  46.571  0.716   1.099\n",
              "48  35.974  0.665   1.011\n",
              "49  13.528  0.577   0.000\n",
              "50   7.735  0.267   0.000\n",
              "51  30.696  0.806   3.991\n",
              "52  29.533  0.776   4.209\n",
              "53  25.148  0.747   5.203\n",
              "54  12.137  0.736   0.155"
            ],
            "text/html": [
              "\n",
              "  <div id=\"df-dbe2931b-5dee-4a60-b5da-64010572e39f\">\n",
              "    <div class=\"colab-df-container\">\n",
              "      <div>\n",
              "<style scoped>\n",
              "    .dataframe tbody tr th:only-of-type {\n",
              "        vertical-align: middle;\n",
              "    }\n",
              "\n",
              "    .dataframe tbody tr th {\n",
              "        vertical-align: top;\n",
              "    }\n",
              "\n",
              "    .dataframe thead th {\n",
              "        text-align: right;\n",
              "    }\n",
              "</style>\n",
              "<table border=\"1\" class=\"dataframe\">\n",
              "  <thead>\n",
              "    <tr style=\"text-align: right;\">\n",
              "      <th></th>\n",
              "      <th>Slope</th>\n",
              "      <th>NDVI</th>\n",
              "      <th>Volume</th>\n",
              "    </tr>\n",
              "  </thead>\n",
              "  <tbody>\n",
              "    <tr>\n",
              "      <th>0</th>\n",
              "      <td>40.313</td>\n",
              "      <td>0.740</td>\n",
              "      <td>4.160</td>\n",
              "    </tr>\n",
              "    <tr>\n",
              "      <th>1</th>\n",
              "      <td>40.680</td>\n",
              "      <td>0.741</td>\n",
              "      <td>2.922</td>\n",
              "    </tr>\n",
              "    <tr>\n",
              "      <th>2</th>\n",
              "      <td>14.837</td>\n",
              "      <td>0.332</td>\n",
              "      <td>0.000</td>\n",
              "    </tr>\n",
              "    <tr>\n",
              "      <th>3</th>\n",
              "      <td>8.904</td>\n",
              "      <td>0.734</td>\n",
              "      <td>0.000</td>\n",
              "    </tr>\n",
              "    <tr>\n",
              "      <th>4</th>\n",
              "      <td>23.281</td>\n",
              "      <td>0.616</td>\n",
              "      <td>1.682</td>\n",
              "    </tr>\n",
              "    <tr>\n",
              "      <th>5</th>\n",
              "      <td>10.655</td>\n",
              "      <td>0.639</td>\n",
              "      <td>1.854</td>\n",
              "    </tr>\n",
              "    <tr>\n",
              "      <th>6</th>\n",
              "      <td>12.656</td>\n",
              "      <td>0.497</td>\n",
              "      <td>0.395</td>\n",
              "    </tr>\n",
              "    <tr>\n",
              "      <th>7</th>\n",
              "      <td>2.988</td>\n",
              "      <td>0.191</td>\n",
              "      <td>0.000</td>\n",
              "    </tr>\n",
              "    <tr>\n",
              "      <th>8</th>\n",
              "      <td>1.387</td>\n",
              "      <td>0.628</td>\n",
              "      <td>0.132</td>\n",
              "    </tr>\n",
              "    <tr>\n",
              "      <th>9</th>\n",
              "      <td>32.786</td>\n",
              "      <td>0.758</td>\n",
              "      <td>5.046</td>\n",
              "    </tr>\n",
              "    <tr>\n",
              "      <th>10</th>\n",
              "      <td>26.575</td>\n",
              "      <td>0.540</td>\n",
              "      <td>0.417</td>\n",
              "    </tr>\n",
              "    <tr>\n",
              "      <th>11</th>\n",
              "      <td>65.349</td>\n",
              "      <td>0.703</td>\n",
              "      <td>0.087</td>\n",
              "    </tr>\n",
              "    <tr>\n",
              "      <th>12</th>\n",
              "      <td>27.248</td>\n",
              "      <td>0.743</td>\n",
              "      <td>0.075</td>\n",
              "    </tr>\n",
              "    <tr>\n",
              "      <th>13</th>\n",
              "      <td>19.755</td>\n",
              "      <td>0.736</td>\n",
              "      <td>0.906</td>\n",
              "    </tr>\n",
              "    <tr>\n",
              "      <th>14</th>\n",
              "      <td>38.350</td>\n",
              "      <td>0.739</td>\n",
              "      <td>3.404</td>\n",
              "    </tr>\n",
              "    <tr>\n",
              "      <th>15</th>\n",
              "      <td>28.919</td>\n",
              "      <td>0.762</td>\n",
              "      <td>3.123</td>\n",
              "    </tr>\n",
              "    <tr>\n",
              "      <th>16</th>\n",
              "      <td>20.694</td>\n",
              "      <td>0.706</td>\n",
              "      <td>0.990</td>\n",
              "    </tr>\n",
              "    <tr>\n",
              "      <th>17</th>\n",
              "      <td>4.707</td>\n",
              "      <td>0.125</td>\n",
              "      <td>0.000</td>\n",
              "    </tr>\n",
              "    <tr>\n",
              "      <th>18</th>\n",
              "      <td>17.089</td>\n",
              "      <td>0.729</td>\n",
              "      <td>0.758</td>\n",
              "    </tr>\n",
              "    <tr>\n",
              "      <th>19</th>\n",
              "      <td>17.089</td>\n",
              "      <td>0.710</td>\n",
              "      <td>1.029</td>\n",
              "    </tr>\n",
              "    <tr>\n",
              "      <th>20</th>\n",
              "      <td>8.372</td>\n",
              "      <td>0.710</td>\n",
              "      <td>1.208</td>\n",
              "    </tr>\n",
              "    <tr>\n",
              "      <th>21</th>\n",
              "      <td>9.056</td>\n",
              "      <td>0.705</td>\n",
              "      <td>1.581</td>\n",
              "    </tr>\n",
              "    <tr>\n",
              "      <th>22</th>\n",
              "      <td>50.295</td>\n",
              "      <td>0.248</td>\n",
              "      <td>0.000</td>\n",
              "    </tr>\n",
              "    <tr>\n",
              "      <th>23</th>\n",
              "      <td>11.942</td>\n",
              "      <td>0.646</td>\n",
              "      <td>3.818</td>\n",
              "    </tr>\n",
              "    <tr>\n",
              "      <th>24</th>\n",
              "      <td>11.726</td>\n",
              "      <td>0.741</td>\n",
              "      <td>3.239</td>\n",
              "    </tr>\n",
              "    <tr>\n",
              "      <th>25</th>\n",
              "      <td>22.844</td>\n",
              "      <td>0.551</td>\n",
              "      <td>0.296</td>\n",
              "    </tr>\n",
              "    <tr>\n",
              "      <th>26</th>\n",
              "      <td>23.603</td>\n",
              "      <td>0.765</td>\n",
              "      <td>4.039</td>\n",
              "    </tr>\n",
              "    <tr>\n",
              "      <th>27</th>\n",
              "      <td>74.035</td>\n",
              "      <td>0.712</td>\n",
              "      <td>4.682</td>\n",
              "    </tr>\n",
              "    <tr>\n",
              "      <th>28</th>\n",
              "      <td>20.166</td>\n",
              "      <td>0.583</td>\n",
              "      <td>2.088</td>\n",
              "    </tr>\n",
              "    <tr>\n",
              "      <th>29</th>\n",
              "      <td>7.194</td>\n",
              "      <td>0.610</td>\n",
              "      <td>0.000</td>\n",
              "    </tr>\n",
              "    <tr>\n",
              "      <th>30</th>\n",
              "      <td>27.659</td>\n",
              "      <td>0.778</td>\n",
              "      <td>0.518</td>\n",
              "    </tr>\n",
              "    <tr>\n",
              "      <th>31</th>\n",
              "      <td>24.908</td>\n",
              "      <td>0.630</td>\n",
              "      <td>0.398</td>\n",
              "    </tr>\n",
              "    <tr>\n",
              "      <th>32</th>\n",
              "      <td>21.862</td>\n",
              "      <td>0.590</td>\n",
              "      <td>0.000</td>\n",
              "    </tr>\n",
              "    <tr>\n",
              "      <th>33</th>\n",
              "      <td>21.174</td>\n",
              "      <td>0.726</td>\n",
              "      <td>1.543</td>\n",
              "    </tr>\n",
              "    <tr>\n",
              "      <th>34</th>\n",
              "      <td>2.092</td>\n",
              "      <td>0.764</td>\n",
              "      <td>0.391</td>\n",
              "    </tr>\n",
              "    <tr>\n",
              "      <th>35</th>\n",
              "      <td>6.015</td>\n",
              "      <td>0.709</td>\n",
              "      <td>1.002</td>\n",
              "    </tr>\n",
              "    <tr>\n",
              "      <th>36</th>\n",
              "      <td>11.993</td>\n",
              "      <td>0.767</td>\n",
              "      <td>0.388</td>\n",
              "    </tr>\n",
              "    <tr>\n",
              "      <th>37</th>\n",
              "      <td>12.303</td>\n",
              "      <td>0.645</td>\n",
              "      <td>0.478</td>\n",
              "    </tr>\n",
              "    <tr>\n",
              "      <th>38</th>\n",
              "      <td>6.337</td>\n",
              "      <td>0.471</td>\n",
              "      <td>1.634</td>\n",
              "    </tr>\n",
              "    <tr>\n",
              "      <th>39</th>\n",
              "      <td>4.669</td>\n",
              "      <td>0.713</td>\n",
              "      <td>1.718</td>\n",
              "    </tr>\n",
              "    <tr>\n",
              "      <th>40</th>\n",
              "      <td>3.186</td>\n",
              "      <td>0.755</td>\n",
              "      <td>1.154</td>\n",
              "    </tr>\n",
              "    <tr>\n",
              "      <th>41</th>\n",
              "      <td>11.386</td>\n",
              "      <td>0.717</td>\n",
              "      <td>0.546</td>\n",
              "    </tr>\n",
              "    <tr>\n",
              "      <th>42</th>\n",
              "      <td>9.690</td>\n",
              "      <td>0.731</td>\n",
              "      <td>0.461</td>\n",
              "    </tr>\n",
              "    <tr>\n",
              "      <th>43</th>\n",
              "      <td>10.954</td>\n",
              "      <td>0.747</td>\n",
              "      <td>0.441</td>\n",
              "    </tr>\n",
              "    <tr>\n",
              "      <th>44</th>\n",
              "      <td>17.159</td>\n",
              "      <td>0.642</td>\n",
              "      <td>0.876</td>\n",
              "    </tr>\n",
              "    <tr>\n",
              "      <th>45</th>\n",
              "      <td>13.189</td>\n",
              "      <td>0.291</td>\n",
              "      <td>0.000</td>\n",
              "    </tr>\n",
              "    <tr>\n",
              "      <th>46</th>\n",
              "      <td>23.801</td>\n",
              "      <td>0.592</td>\n",
              "      <td>0.769</td>\n",
              "    </tr>\n",
              "    <tr>\n",
              "      <th>47</th>\n",
              "      <td>46.571</td>\n",
              "      <td>0.716</td>\n",
              "      <td>1.099</td>\n",
              "    </tr>\n",
              "    <tr>\n",
              "      <th>48</th>\n",
              "      <td>35.974</td>\n",
              "      <td>0.665</td>\n",
              "      <td>1.011</td>\n",
              "    </tr>\n",
              "    <tr>\n",
              "      <th>49</th>\n",
              "      <td>13.528</td>\n",
              "      <td>0.577</td>\n",
              "      <td>0.000</td>\n",
              "    </tr>\n",
              "    <tr>\n",
              "      <th>50</th>\n",
              "      <td>7.735</td>\n",
              "      <td>0.267</td>\n",
              "      <td>0.000</td>\n",
              "    </tr>\n",
              "    <tr>\n",
              "      <th>51</th>\n",
              "      <td>30.696</td>\n",
              "      <td>0.806</td>\n",
              "      <td>3.991</td>\n",
              "    </tr>\n",
              "    <tr>\n",
              "      <th>52</th>\n",
              "      <td>29.533</td>\n",
              "      <td>0.776</td>\n",
              "      <td>4.209</td>\n",
              "    </tr>\n",
              "    <tr>\n",
              "      <th>53</th>\n",
              "      <td>25.148</td>\n",
              "      <td>0.747</td>\n",
              "      <td>5.203</td>\n",
              "    </tr>\n",
              "    <tr>\n",
              "      <th>54</th>\n",
              "      <td>12.137</td>\n",
              "      <td>0.736</td>\n",
              "      <td>0.155</td>\n",
              "    </tr>\n",
              "  </tbody>\n",
              "</table>\n",
              "</div>\n",
              "      <button class=\"colab-df-convert\" onclick=\"convertToInteractive('df-dbe2931b-5dee-4a60-b5da-64010572e39f')\"\n",
              "              title=\"Convert this dataframe to an interactive table.\"\n",
              "              style=\"display:none;\">\n",
              "        \n",
              "  <svg xmlns=\"http://www.w3.org/2000/svg\" height=\"24px\"viewBox=\"0 0 24 24\"\n",
              "       width=\"24px\">\n",
              "    <path d=\"M0 0h24v24H0V0z\" fill=\"none\"/>\n",
              "    <path d=\"M18.56 5.44l.94 2.06.94-2.06 2.06-.94-2.06-.94-.94-2.06-.94 2.06-2.06.94zm-11 1L8.5 8.5l.94-2.06 2.06-.94-2.06-.94L8.5 2.5l-.94 2.06-2.06.94zm10 10l.94 2.06.94-2.06 2.06-.94-2.06-.94-.94-2.06-.94 2.06-2.06.94z\"/><path d=\"M17.41 7.96l-1.37-1.37c-.4-.4-.92-.59-1.43-.59-.52 0-1.04.2-1.43.59L10.3 9.45l-7.72 7.72c-.78.78-.78 2.05 0 2.83L4 21.41c.39.39.9.59 1.41.59.51 0 1.02-.2 1.41-.59l7.78-7.78 2.81-2.81c.8-.78.8-2.07 0-2.86zM5.41 20L4 18.59l7.72-7.72 1.47 1.35L5.41 20z\"/>\n",
              "  </svg>\n",
              "      </button>\n",
              "      \n",
              "  <style>\n",
              "    .colab-df-container {\n",
              "      display:flex;\n",
              "      flex-wrap:wrap;\n",
              "      gap: 12px;\n",
              "    }\n",
              "\n",
              "    .colab-df-convert {\n",
              "      background-color: #E8F0FE;\n",
              "      border: none;\n",
              "      border-radius: 50%;\n",
              "      cursor: pointer;\n",
              "      display: none;\n",
              "      fill: #1967D2;\n",
              "      height: 32px;\n",
              "      padding: 0 0 0 0;\n",
              "      width: 32px;\n",
              "    }\n",
              "\n",
              "    .colab-df-convert:hover {\n",
              "      background-color: #E2EBFA;\n",
              "      box-shadow: 0px 1px 2px rgba(60, 64, 67, 0.3), 0px 1px 3px 1px rgba(60, 64, 67, 0.15);\n",
              "      fill: #174EA6;\n",
              "    }\n",
              "\n",
              "    [theme=dark] .colab-df-convert {\n",
              "      background-color: #3B4455;\n",
              "      fill: #D2E3FC;\n",
              "    }\n",
              "\n",
              "    [theme=dark] .colab-df-convert:hover {\n",
              "      background-color: #434B5C;\n",
              "      box-shadow: 0px 1px 3px 1px rgba(0, 0, 0, 0.15);\n",
              "      filter: drop-shadow(0px 1px 2px rgba(0, 0, 0, 0.3));\n",
              "      fill: #FFFFFF;\n",
              "    }\n",
              "  </style>\n",
              "\n",
              "      <script>\n",
              "        const buttonEl =\n",
              "          document.querySelector('#df-dbe2931b-5dee-4a60-b5da-64010572e39f button.colab-df-convert');\n",
              "        buttonEl.style.display =\n",
              "          google.colab.kernel.accessAllowed ? 'block' : 'none';\n",
              "\n",
              "        async function convertToInteractive(key) {\n",
              "          const element = document.querySelector('#df-dbe2931b-5dee-4a60-b5da-64010572e39f');\n",
              "          const dataTable =\n",
              "            await google.colab.kernel.invokeFunction('convertToInteractive',\n",
              "                                                     [key], {});\n",
              "          if (!dataTable) return;\n",
              "\n",
              "          const docLinkHtml = 'Like what you see? Visit the ' +\n",
              "            '<a target=\"_blank\" href=https://colab.research.google.com/notebooks/data_table.ipynb>data table notebook</a>'\n",
              "            + ' to learn more about interactive tables.';\n",
              "          element.innerHTML = '';\n",
              "          dataTable['output_type'] = 'display_data';\n",
              "          await google.colab.output.renderOutput(dataTable, element);\n",
              "          const docLink = document.createElement('div');\n",
              "          docLink.innerHTML = docLinkHtml;\n",
              "          element.appendChild(docLink);\n",
              "        }\n",
              "      </script>\n",
              "    </div>\n",
              "  </div>\n",
              "  "
            ]
          },
          "metadata": {},
          "execution_count": 106
        }
      ]
    },
    {
      "cell_type": "code",
      "source": [
        "# Checking the dataset information\n",
        "\n",
        "df.info()"
      ],
      "metadata": {
        "colab": {
          "base_uri": "https://localhost:8080/"
        },
        "id": "qs1ydg803X_H",
        "outputId": "fb35f96f-cd7b-4a3f-c084-ffbb845d21b4"
      },
      "execution_count": 107,
      "outputs": [
        {
          "output_type": "stream",
          "name": "stdout",
          "text": [
            "<class 'pandas.core.frame.DataFrame'>\n",
            "RangeIndex: 55 entries, 0 to 54\n",
            "Data columns (total 3 columns):\n",
            " #   Column  Non-Null Count  Dtype  \n",
            "---  ------  --------------  -----  \n",
            " 0   Slope   55 non-null     float64\n",
            " 1   NDVI    55 non-null     float64\n",
            " 2   Volume  55 non-null     float64\n",
            "dtypes: float64(3)\n",
            "memory usage: 1.4 KB\n"
          ]
        }
      ]
    },
    {
      "cell_type": "markdown",
      "source": [
        "## 1. Data Description"
      ],
      "metadata": {
        "id": "5P0_YsRDuDVD"
      }
    },
    {
      "cell_type": "code",
      "source": [
        "# Feature in dataset\n",
        "\n",
        "# Slope : Landslope, units in percentage\n",
        "# NDVI (Normalize Difference Vegetation Index) : Vegetation index, range 0-1, higher value means thicker vegetation canopy\n",
        "# Volume : Stand volume, units in m^3"
      ],
      "metadata": {
        "id": "yIjwrpidrU8t"
      },
      "execution_count": 108,
      "outputs": []
    },
    {
      "cell_type": "code",
      "source": [
        "# Checking the missing value\n",
        "\n",
        "mnso.bar(df)"
      ],
      "metadata": {
        "colab": {
          "base_uri": "https://localhost:8080/",
          "height": 602
        },
        "id": "guPrhcOox4k0",
        "outputId": "43e768f6-7e89-4785-c661-a74c96e25371"
      },
      "execution_count": 109,
      "outputs": [
        {
          "output_type": "execute_result",
          "data": {
            "text/plain": [
              "<matplotlib.axes._subplots.AxesSubplot at 0x7fa20764e590>"
            ]
          },
          "metadata": {},
          "execution_count": 109
        },
        {
          "output_type": "display_data",
          "data": {
            "text/plain": [
              "<Figure size 1800x720 with 3 Axes>"
            ],
            "image/png": "[encoded data removed]"
          },
          "metadata": {
            "needs_background": "light"
          }
        }
      ]
    },
    {
      "cell_type": "code",
      "source": [
        "# Checking the missing value in percentage\n",
        "\n",
        "df.isna().sum()/len(df)"
      ],
      "metadata": {
        "colab": {
          "base_uri": "https://localhost:8080/"
        },
        "id": "4833lqyorYv7",
        "outputId": "1d1dfb5c-d104-440f-99a9-eb1755701705"
      },
      "execution_count": 110,
      "outputs": [
        {
          "output_type": "execute_result",
          "data": {
            "text/plain": [
              "Slope     0.0\n",
              "NDVI      0.0\n",
              "Volume    0.0\n",
              "dtype: float64"
            ]
          },
          "metadata": {},
          "execution_count": 110
        }
      ]
    },
    {
      "cell_type": "code",
      "source": [
        "# Showing the dataset descriptive statistic \n",
        "\n",
        "df.describe().T"
      ],
      "metadata": {
        "id": "SHRPpmcqrufv",
        "colab": {
          "base_uri": "https://localhost:8080/",
          "height": 143
        },
        "outputId": "a528c370-e3f3-47be-caa7-990595833ab9"
      },
      "execution_count": 111,
      "outputs": [
        {
          "output_type": "execute_result",
          "data": {
            "text/plain": [
              "        count       mean        std    min      25%     50%      75%     max\n",
              "Slope    55.0  20.421709  15.136789  1.387  10.1725  17.089  26.9115  74.035\n",
              "NDVI     55.0   0.639964   0.160197  0.125   0.6010   0.710   0.7405   0.806\n",
              "Volume   55.0   1.380291   1.527282  0.000   0.2255   0.876   1.7860   5.203"
            ],
            "text/html": [
              "\n",
              "  <div id=\"df-05b8de08-973e-46fa-8d2b-0bfa90889c96\">\n",
              "    <div class=\"colab-df-container\">\n",
              "      <div>\n",
              "<style scoped>\n",
              "    .dataframe tbody tr th:only-of-type {\n",
              "        vertical-align: middle;\n",
              "    }\n",
              "\n",
              "    .dataframe tbody tr th {\n",
              "        vertical-align: top;\n",
              "    }\n",
              "\n",
              "    .dataframe thead th {\n",
              "        text-align: right;\n",
              "    }\n",
              "</style>\n",
              "<table border=\"1\" class=\"dataframe\">\n",
              "  <thead>\n",
              "    <tr style=\"text-align: right;\">\n",
              "      <th></th>\n",
              "      <th>count</th>\n",
              "      <th>mean</th>\n",
              "      <th>std</th>\n",
              "      <th>min</th>\n",
              "      <th>25%</th>\n",
              "      <th>50%</th>\n",
              "      <th>75%</th>\n",
              "      <th>max</th>\n",
              "    </tr>\n",
              "  </thead>\n",
              "  <tbody>\n",
              "    <tr>\n",
              "      <th>Slope</th>\n",
              "      <td>55.0</td>\n",
              "      <td>20.421709</td>\n",
              "      <td>15.136789</td>\n",
              "      <td>1.387</td>\n",
              "      <td>10.1725</td>\n",
              "      <td>17.089</td>\n",
              "      <td>26.9115</td>\n",
              "      <td>74.035</td>\n",
              "    </tr>\n",
              "    <tr>\n",
              "      <th>NDVI</th>\n",
              "      <td>55.0</td>\n",
              "      <td>0.639964</td>\n",
              "      <td>0.160197</td>\n",
              "      <td>0.125</td>\n",
              "      <td>0.6010</td>\n",
              "      <td>0.710</td>\n",
              "      <td>0.7405</td>\n",
              "      <td>0.806</td>\n",
              "    </tr>\n",
              "    <tr>\n",
              "      <th>Volume</th>\n",
              "      <td>55.0</td>\n",
              "      <td>1.380291</td>\n",
              "      <td>1.527282</td>\n",
              "      <td>0.000</td>\n",
              "      <td>0.2255</td>\n",
              "      <td>0.876</td>\n",
              "      <td>1.7860</td>\n",
              "      <td>5.203</td>\n",
              "    </tr>\n",
              "  </tbody>\n",
              "</table>\n",
              "</div>\n",
              "      <button class=\"colab-df-convert\" onclick=\"convertToInteractive('df-05b8de08-973e-46fa-8d2b-0bfa90889c96')\"\n",
              "              title=\"Convert this dataframe to an interactive table.\"\n",
              "              style=\"display:none;\">\n",
              "        \n",
              "  <svg xmlns=\"http://www.w3.org/2000/svg\" height=\"24px\"viewBox=\"0 0 24 24\"\n",
              "       width=\"24px\">\n",
              "    <path d=\"M0 0h24v24H0V0z\" fill=\"none\"/>\n",
              "    <path d=\"M18.56 5.44l.94 2.06.94-2.06 2.06-.94-2.06-.94-.94-2.06-.94 2.06-2.06.94zm-11 1L8.5 8.5l.94-2.06 2.06-.94-2.06-.94L8.5 2.5l-.94 2.06-2.06.94zm10 10l.94 2.06.94-2.06 2.06-.94-2.06-.94-.94-2.06-.94 2.06-2.06.94z\"/><path d=\"M17.41 7.96l-1.37-1.37c-.4-.4-.92-.59-1.43-.59-.52 0-1.04.2-1.43.59L10.3 9.45l-7.72 7.72c-.78.78-.78 2.05 0 2.83L4 21.41c.39.39.9.59 1.41.59.51 0 1.02-.2 1.41-.59l7.78-7.78 2.81-2.81c.8-.78.8-2.07 0-2.86zM5.41 20L4 18.59l7.72-7.72 1.47 1.35L5.41 20z\"/>\n",
              "  </svg>\n",
              "      </button>\n",
              "      \n",
              "  <style>\n",
              "    .colab-df-container {\n",
              "      display:flex;\n",
              "      flex-wrap:wrap;\n",
              "      gap: 12px;\n",
              "    }\n",
              "\n",
              "    .colab-df-convert {\n",
              "      background-color: #E8F0FE;\n",
              "      border: none;\n",
              "      border-radius: 50%;\n",
              "      cursor: pointer;\n",
              "      display: none;\n",
              "      fill: #1967D2;\n",
              "      height: 32px;\n",
              "      padding: 0 0 0 0;\n",
              "      width: 32px;\n",
              "    }\n",
              "\n",
              "    .colab-df-convert:hover {\n",
              "      background-color: #E2EBFA;\n",
              "      box-shadow: 0px 1px 2px rgba(60, 64, 67, 0.3), 0px 1px 3px 1px rgba(60, 64, 67, 0.15);\n",
              "      fill: #174EA6;\n",
              "    }\n",
              "\n",
              "    [theme=dark] .colab-df-convert {\n",
              "      background-color: #3B4455;\n",
              "      fill: #D2E3FC;\n",
              "    }\n",
              "\n",
              "    [theme=dark] .colab-df-convert:hover {\n",
              "      background-color: #434B5C;\n",
              "      box-shadow: 0px 1px 3px 1px rgba(0, 0, 0, 0.15);\n",
              "      filter: drop-shadow(0px 1px 2px rgba(0, 0, 0, 0.3));\n",
              "      fill: #FFFFFF;\n",
              "    }\n",
              "  </style>\n",
              "\n",
              "      <script>\n",
              "        const buttonEl =\n",
              "          document.querySelector('#df-05b8de08-973e-46fa-8d2b-0bfa90889c96 button.colab-df-convert');\n",
              "        buttonEl.style.display =\n",
              "          google.colab.kernel.accessAllowed ? 'block' : 'none';\n",
              "\n",
              "        async function convertToInteractive(key) {\n",
              "          const element = document.querySelector('#df-05b8de08-973e-46fa-8d2b-0bfa90889c96');\n",
              "          const dataTable =\n",
              "            await google.colab.kernel.invokeFunction('convertToInteractive',\n",
              "                                                     [key], {});\n",
              "          if (!dataTable) return;\n",
              "\n",
              "          const docLinkHtml = 'Like what you see? Visit the ' +\n",
              "            '<a target=\"_blank\" href=https://colab.research.google.com/notebooks/data_table.ipynb>data table notebook</a>'\n",
              "            + ' to learn more about interactive tables.';\n",
              "          element.innerHTML = '';\n",
              "          dataTable['output_type'] = 'display_data';\n",
              "          await google.colab.output.renderOutput(dataTable, element);\n",
              "          const docLink = document.createElement('div');\n",
              "          docLink.innerHTML = docLinkHtml;\n",
              "          element.appendChild(docLink);\n",
              "        }\n",
              "      </script>\n",
              "    </div>\n",
              "  </div>\n",
              "  "
            ]
          },
          "metadata": {},
          "execution_count": 111
        }
      ]
    },
    {
      "cell_type": "markdown",
      "source": [
        "## 2. Exploratory Data Analysis"
      ],
      "metadata": {
        "id": "tkJu6GVRuNw-"
      }
    },
    {
      "cell_type": "code",
      "execution_count": 112,
      "metadata": {
        "id": "49df4d45-2fcb-42b3-83fd-5e5c83df1027",
        "colab": {
          "base_uri": "https://localhost:8080/",
          "height": 1000
        },
        "outputId": "f6616835-541d-417d-eade-26bc9e11f804"
      },
      "outputs": [
        {
          "output_type": "stream",
          "name": "stdout",
          "text": [
            "\n",
            "Iterasi ke- 1\n",
            "Kolom :  Slope\n"
          ]
        },
        {
          "output_type": "display_data",
          "data": {
            "text/plain": [
              "<Figure size 432x288 with 1 Axes>"
            ],
            "image/png": "[encoded data removed]"
          },
          "metadata": {
            "needs_background": "light"
          }
        },
        {
          "output_type": "display_data",
          "data": {
            "text/plain": [
              "<Figure size 432x288 with 1 Axes>"
            ],
            "image/png": "[encoded data removed]"
          },
          "metadata": {
            "needs_background": "light"
          }
        },
        {
          "output_type": "stream",
          "name": "stdout",
          "text": [
            "\n",
            "Skew Value :  1.4349674188215156\n",
            "Skew Test Value :  SkewtestResult(statistic=3.8567628218787586, pvalue=0.0001148985490995366)\n",
            "count    55.000000\n",
            "mean     20.421709\n",
            "std      15.136789\n",
            "min       1.387000\n",
            "25%      10.172500\n",
            "50%      17.089000\n",
            "75%      26.911500\n",
            "max      74.035000\n",
            "Name: Slope, dtype: float64\n",
            "\n",
            "nilai max di luar outlier = 50.295\n",
            "nilai min di luar outlier = 1.387\n",
            "jumlah outlier:2\n",
            "outlier:\n",
            "[65.349, 74.035]\n",
            "\n",
            "\n",
            "Iterasi ke- 2\n",
            "Kolom :  NDVI\n"
          ]
        },
        {
          "output_type": "display_data",
          "data": {
            "text/plain": [
              "<Figure size 432x288 with 1 Axes>"
            ],
            "image/png": "[encoded data removed]"
          },
          "metadata": {
            "needs_background": "light"
          }
        },
        {
          "output_type": "display_data",
          "data": {
            "text/plain": [
              "<Figure size 432x288 with 1 Axes>"
            ],
            "image/png": "[encoded data removed]"
          },
          "metadata": {
            "needs_background": "light"
          }
        },
        {
          "output_type": "stream",
          "name": "stdout",
          "text": [
            "\n",
            "Skew Value :  -1.7484300941791064\n",
            "Skew Test Value :  SkewtestResult(statistic=-4.408055399620274, pvalue=1.0430286919242515e-05)\n",
            "count    55.000000\n",
            "mean      0.639964\n",
            "std       0.160197\n",
            "min       0.125000\n",
            "25%       0.601000\n",
            "50%       0.710000\n",
            "75%       0.740500\n",
            "max       0.806000\n",
            "Name: NDVI, dtype: float64\n",
            "\n",
            "nilai max di luar outlier = 0.806\n",
            "nilai min di luar outlier = 0.471\n",
            "jumlah outlier:6\n",
            "outlier:\n",
            "[0.332, 0.191, 0.125, 0.248, 0.291, 0.267]\n",
            "\n",
            "\n",
            "Iterasi ke- 3\n",
            "Kolom :  Volume\n"
          ]
        },
        {
          "output_type": "display_data",
          "data": {
            "text/plain": [
              "<Figure size 432x288 with 1 Axes>"
            ],
            "image/png": "[encoded data removed]"
          },
          "metadata": {
            "needs_background": "light"
          }
        },
        {
          "output_type": "display_data",
          "data": {
            "text/plain": [
              "<Figure size 432x288 with 1 Axes>"
            ],
            "image/png": "[encoded data removed]"
          },
          "metadata": {
            "needs_background": "light"
          }
        },
        {
          "output_type": "stream",
          "name": "stdout",
          "text": [
            "\n",
            "Skew Value :  1.1306318777771294\n",
            "Skew Test Value :  SkewtestResult(statistic=3.2370384607079377, pvalue=0.0012077713286442946)\n",
            "count    55.000000\n",
            "mean      1.380291\n",
            "std       1.527282\n",
            "min       0.000000\n",
            "25%       0.225500\n",
            "50%       0.876000\n",
            "75%       1.786000\n",
            "max       5.203000\n",
            "Name: Volume, dtype: float64\n",
            "\n",
            "nilai max di luar outlier = 4.039\n",
            "nilai min di luar outlier = 0.0\n",
            "jumlah outlier:5\n",
            "outlier:\n",
            "[4.16, 5.046, 4.682, 4.209, 5.203]\n",
            "\n"
          ]
        }
      ],
      "source": [
        "# Creating the list for dataset feature names\n",
        "list_kontinu = list(df.columns)\n",
        "df_num = df.select_dtypes('number')\n",
        "\n",
        "# Creating loop\n",
        "iter = 1\n",
        "for i in list_kontinu:\n",
        "  print()\n",
        "  print('Iterasi ke-',iter)\n",
        "  print('Kolom : ',i)\n",
        "  sns.histplot(df_num[i],kde=True)\n",
        "  plt.axvline(np.mean(df_num[i]),c='green',linestyle='--')\n",
        "  plt.axvline(np.percentile(df_num[i],25),c='red',linestyle='--')\n",
        "  plt.axvline(np.percentile(df_num[i],50),c='red',linestyle='--')\n",
        "  plt.axvline(np.percentile(df_num[i],75),c='red',linestyle='--')\n",
        "  plt.show()\n",
        "  sns.boxplot(data=df_num, x=df_num[i])\n",
        "  plt.show()\n",
        "\n",
        "  print()\n",
        "  print('Skew Value : ',skew(df_num[i]))\n",
        "  print('Skew Test Value : ',skewtest(df_num[i]))\n",
        "  print(df_num[i].describe())\n",
        "  \n",
        "  print()\n",
        "  Q1 = np.percentile(df_num[i],25)\n",
        "  Q2 = np.percentile(df_num[i],50)\n",
        "  Q3 = np.percentile(df_num[i],75)\n",
        "  IQR = Q3-Q1\n",
        "\n",
        "  upper_f = Q3 + 1.5 * IQR\n",
        "  lower_f = Q1 - 1.5 * IQR\n",
        "\n",
        "  upper_w = np.max(df_num[df_num[i] <= upper_f][i])\n",
        "  lower_w = np.min(df_num[df_num[i] >= lower_f][i])\n",
        "  outlier = list(df_num[(df_num[i] < lower_w) | (df_num[i] > upper_f)][i])\n",
        "\n",
        "  print('nilai max di luar outlier = {}'.format(upper_w))\n",
        "  print('nilai min di luar outlier = {}'.format(lower_w))\n",
        "  print('jumlah outlier:{}'.format(len(outlier)))\n",
        "  print('outlier:')\n",
        "  print(outlier)\n",
        "  iter+=1\n",
        "  print()"
      ]
    },
    {
      "cell_type": "code",
      "source": [
        "# The slope and volume have the right skewed distribution but in contrast the NDVI has the left skewed distribution"
      ],
      "metadata": {
        "id": "2xd6KNNztSwX"
      },
      "execution_count": 113,
      "outputs": []
    },
    {
      "cell_type": "markdown",
      "source": [
        "# **Data Preparation**"
      ],
      "metadata": {
        "id": "iji7e5WY7ch_"
      }
    },
    {
      "cell_type": "markdown",
      "source": [
        "## Data Cleaning and Handling Missing Value"
      ],
      "metadata": {
        "id": "1pR7R4DO7neL"
      }
    },
    {
      "cell_type": "code",
      "source": [
        "# There was no missing value in the data\n",
        "\n",
        "df.info()"
      ],
      "metadata": {
        "colab": {
          "base_uri": "https://localhost:8080/"
        },
        "id": "YMMPUCBngGKx",
        "outputId": "17c7629f-0cff-4930-fc33-ebff7f6c883d"
      },
      "execution_count": 114,
      "outputs": [
        {
          "output_type": "stream",
          "name": "stdout",
          "text": [
            "<class 'pandas.core.frame.DataFrame'>\n",
            "RangeIndex: 55 entries, 0 to 54\n",
            "Data columns (total 3 columns):\n",
            " #   Column  Non-Null Count  Dtype  \n",
            "---  ------  --------------  -----  \n",
            " 0   Slope   55 non-null     float64\n",
            " 1   NDVI    55 non-null     float64\n",
            " 2   Volume  55 non-null     float64\n",
            "dtypes: float64(3)\n",
            "memory usage: 1.4 KB\n"
          ]
        }
      ]
    },
    {
      "cell_type": "markdown",
      "source": [
        "# **Feature Engineering**"
      ],
      "metadata": {
        "id": "dFuvtomE7wWQ"
      }
    },
    {
      "cell_type": "markdown",
      "source": [
        "## 1. Feature Transformation"
      ],
      "metadata": {
        "id": "NB843OkQ72jl"
      }
    },
    {
      "cell_type": "code",
      "source": [
        "# Spliting the data for X and Y variable\n",
        "\n",
        "X = df.drop(['Volume'],axis=1)\n",
        "Y = df['Volume']"
      ],
      "metadata": {
        "id": "JrxdkNh4vMfP"
      },
      "execution_count": 115,
      "outputs": []
    },
    {
      "cell_type": "code",
      "source": [
        "# Executing the train test split\n",
        "\n",
        "X_train,X_test,y_train,y_test = train_test_split(X,Y,test_size=0.2,random_state=42)"
      ],
      "metadata": {
        "id": "ZDUofI_svZaf"
      },
      "execution_count": 116,
      "outputs": []
    },
    {
      "cell_type": "code",
      "source": [
        "# Melihat ukuran dataset dari train test\n",
        "\n",
        "print('X train :',X_train.shape)\n",
        "print('y train :',y_train.shape)\n",
        "print('X test :',X_test.shape)\n",
        "print('y test :',y_test.shape)"
      ],
      "metadata": {
        "colab": {
          "base_uri": "https://localhost:8080/"
        },
        "id": "D35O32j-wVwb",
        "outputId": "b646ece6-efef-4059-97a3-60cf8ff67458"
      },
      "execution_count": 117,
      "outputs": [
        {
          "output_type": "stream",
          "name": "stdout",
          "text": [
            "X train : (44, 2)\n",
            "y train : (44,)\n",
            "X test : (11, 2)\n",
            "y test : (11,)\n"
          ]
        }
      ]
    },
    {
      "cell_type": "code",
      "source": [
        "# Scaling the data train\n",
        "\n",
        "rs = RobustScaler()\n",
        "X_train_sc = pd.DataFrame(rs.fit_transform(X_train),columns =rs.get_feature_names_out(X_train.columns))\n",
        "X_train_sc"
      ],
      "metadata": {
        "colab": {
          "base_uri": "https://localhost:8080/",
          "height": 1000
        },
        "id": "Rw35zHH5xeDK",
        "outputId": "94cfdebc-8366-458d-a2c6-f9f5c5f8d5e4"
      },
      "execution_count": 118,
      "outputs": [
        {
          "output_type": "execute_result",
          "data": {
            "text/plain": [
              "       Slope      NDVI\n",
              "0  -0.367599  0.177258\n",
              "1   0.271364  0.123746\n",
              "2  -0.722335  0.377926\n",
              "3  -0.759048 -0.531773\n",
              "4  -0.586158 -3.896321\n",
              "5  -0.172213 -1.408027\n",
              "6   0.381086 -0.612040\n",
              "7   1.593918  0.056856\n",
              "8   3.024111  0.030100\n",
              "9   0.408165 -0.772575\n",
              "10 -0.144457 -2.785953\n",
              "11  0.478311  0.264214\n",
              "12  0.674686  0.364548\n",
              "13  0.876061  0.337793\n",
              "14  0.246368 -0.010033\n",
              "15 -0.220643  0.224080\n",
              "16  0.609071  0.471572\n",
              "17 -0.190595 -0.418060\n",
              "18  0.358329 -1.046823\n",
              "19  2.571786 -0.030100\n",
              "20  1.268031  0.217391\n",
              "21  1.042077 -0.284281\n",
              "22 -0.206739  0.397993\n",
              "23 -0.456647 -0.652174\n",
              "24 -0.665365  0.317726\n",
              "25  1.287143  0.224080\n",
              "26 -0.359683 -0.016722\n",
              "27 -0.058637 -2.511706\n",
              "28 -0.428475 -2.946488\n",
              "29 -0.588137  0.036789\n",
              "30 -0.518044  0.010033\n",
              "31 -0.209394 -0.411371\n",
              "32  0.062282 -0.438127\n",
              "33  0.552622 -1.120401\n",
              "34  1.787846 -3.073579\n",
              "35  0.058637  0.143813\n",
              "36 -0.199240  0.190635\n",
              "37 -0.395303  0.016722\n",
              "38 -0.675676 -3.454849\n",
              "39 -0.326668  0.157191\n",
              "40  1.165807  0.210702\n",
              "41  0.218872 -0.832776\n",
              "42  0.767224  0.658863\n",
              "43 -0.501276 -1.581940"
            ],
            "text/html": [
              "\n",
              "  <div id=\"df-d5afbfe3-9730-43b7-b5ff-47719fb7042d\">\n",
              "    <div class=\"colab-df-container\">\n",
              "      <div>\n",
              "<style scoped>\n",
              "    .dataframe tbody tr th:only-of-type {\n",
              "        vertical-align: middle;\n",
              "    }\n",
              "\n",
              "    .dataframe tbody tr th {\n",
              "        vertical-align: top;\n",
              "    }\n",
              "\n",
              "    .dataframe thead th {\n",
              "        text-align: right;\n",
              "    }\n",
              "</style>\n",
              "<table border=\"1\" class=\"dataframe\">\n",
              "  <thead>\n",
              "    <tr style=\"text-align: right;\">\n",
              "      <th></th>\n",
              "      <th>Slope</th>\n",
              "      <th>NDVI</th>\n",
              "    </tr>\n",
              "  </thead>\n",
              "  <tbody>\n",
              "    <tr>\n",
              "      <th>0</th>\n",
              "      <td>-0.367599</td>\n",
              "      <td>0.177258</td>\n",
              "    </tr>\n",
              "    <tr>\n",
              "      <th>1</th>\n",
              "      <td>0.271364</td>\n",
              "      <td>0.123746</td>\n",
              "    </tr>\n",
              "    <tr>\n",
              "      <th>2</th>\n",
              "      <td>-0.722335</td>\n",
              "      <td>0.377926</td>\n",
              "    </tr>\n",
              "    <tr>\n",
              "      <th>3</th>\n",
              "      <td>-0.759048</td>\n",
              "      <td>-0.531773</td>\n",
              "    </tr>\n",
              "    <tr>\n",
              "      <th>4</th>\n",
              "      <td>-0.586158</td>\n",
              "      <td>-3.896321</td>\n",
              "    </tr>\n",
              "    <tr>\n",
              "      <th>5</th>\n",
              "      <td>-0.172213</td>\n",
              "      <td>-1.408027</td>\n",
              "    </tr>\n",
              "    <tr>\n",
              "      <th>6</th>\n",
              "      <td>0.381086</td>\n",
              "      <td>-0.612040</td>\n",
              "    </tr>\n",
              "    <tr>\n",
              "      <th>7</th>\n",
              "      <td>1.593918</td>\n",
              "      <td>0.056856</td>\n",
              "    </tr>\n",
              "    <tr>\n",
              "      <th>8</th>\n",
              "      <td>3.024111</td>\n",
              "      <td>0.030100</td>\n",
              "    </tr>\n",
              "    <tr>\n",
              "      <th>9</th>\n",
              "      <td>0.408165</td>\n",
              "      <td>-0.772575</td>\n",
              "    </tr>\n",
              "    <tr>\n",
              "      <th>10</th>\n",
              "      <td>-0.144457</td>\n",
              "      <td>-2.785953</td>\n",
              "    </tr>\n",
              "    <tr>\n",
              "      <th>11</th>\n",
              "      <td>0.478311</td>\n",
              "      <td>0.264214</td>\n",
              "    </tr>\n",
              "    <tr>\n",
              "      <th>12</th>\n",
              "      <td>0.674686</td>\n",
              "      <td>0.364548</td>\n",
              "    </tr>\n",
              "    <tr>\n",
              "      <th>13</th>\n",
              "      <td>0.876061</td>\n",
              "      <td>0.337793</td>\n",
              "    </tr>\n",
              "    <tr>\n",
              "      <th>14</th>\n",
              "      <td>0.246368</td>\n",
              "      <td>-0.010033</td>\n",
              "    </tr>\n",
              "    <tr>\n",
              "      <th>15</th>\n",
              "      <td>-0.220643</td>\n",
              "      <td>0.224080</td>\n",
              "    </tr>\n",
              "    <tr>\n",
              "      <th>16</th>\n",
              "      <td>0.609071</td>\n",
              "      <td>0.471572</td>\n",
              "    </tr>\n",
              "    <tr>\n",
              "      <th>17</th>\n",
              "      <td>-0.190595</td>\n",
              "      <td>-0.418060</td>\n",
              "    </tr>\n",
              "    <tr>\n",
              "      <th>18</th>\n",
              "      <td>0.358329</td>\n",
              "      <td>-1.046823</td>\n",
              "    </tr>\n",
              "    <tr>\n",
              "      <th>19</th>\n",
              "      <td>2.571786</td>\n",
              "      <td>-0.030100</td>\n",
              "    </tr>\n",
              "    <tr>\n",
              "      <th>20</th>\n",
              "      <td>1.268031</td>\n",
              "      <td>0.217391</td>\n",
              "    </tr>\n",
              "    <tr>\n",
              "      <th>21</th>\n",
              "      <td>1.042077</td>\n",
              "      <td>-0.284281</td>\n",
              "    </tr>\n",
              "    <tr>\n",
              "      <th>22</th>\n",
              "      <td>-0.206739</td>\n",
              "      <td>0.397993</td>\n",
              "    </tr>\n",
              "    <tr>\n",
              "      <th>23</th>\n",
              "      <td>-0.456647</td>\n",
              "      <td>-0.652174</td>\n",
              "    </tr>\n",
              "    <tr>\n",
              "      <th>24</th>\n",
              "      <td>-0.665365</td>\n",
              "      <td>0.317726</td>\n",
              "    </tr>\n",
              "    <tr>\n",
              "      <th>25</th>\n",
              "      <td>1.287143</td>\n",
              "      <td>0.224080</td>\n",
              "    </tr>\n",
              "    <tr>\n",
              "      <th>26</th>\n",
              "      <td>-0.359683</td>\n",
              "      <td>-0.016722</td>\n",
              "    </tr>\n",
              "    <tr>\n",
              "      <th>27</th>\n",
              "      <td>-0.058637</td>\n",
              "      <td>-2.511706</td>\n",
              "    </tr>\n",
              "    <tr>\n",
              "      <th>28</th>\n",
              "      <td>-0.428475</td>\n",
              "      <td>-2.946488</td>\n",
              "    </tr>\n",
              "    <tr>\n",
              "      <th>29</th>\n",
              "      <td>-0.588137</td>\n",
              "      <td>0.036789</td>\n",
              "    </tr>\n",
              "    <tr>\n",
              "      <th>30</th>\n",
              "      <td>-0.518044</td>\n",
              "      <td>0.010033</td>\n",
              "    </tr>\n",
              "    <tr>\n",
              "      <th>31</th>\n",
              "      <td>-0.209394</td>\n",
              "      <td>-0.411371</td>\n",
              "    </tr>\n",
              "    <tr>\n",
              "      <th>32</th>\n",
              "      <td>0.062282</td>\n",
              "      <td>-0.438127</td>\n",
              "    </tr>\n",
              "    <tr>\n",
              "      <th>33</th>\n",
              "      <td>0.552622</td>\n",
              "      <td>-1.120401</td>\n",
              "    </tr>\n",
              "    <tr>\n",
              "      <th>34</th>\n",
              "      <td>1.787846</td>\n",
              "      <td>-3.073579</td>\n",
              "    </tr>\n",
              "    <tr>\n",
              "      <th>35</th>\n",
              "      <td>0.058637</td>\n",
              "      <td>0.143813</td>\n",
              "    </tr>\n",
              "    <tr>\n",
              "      <th>36</th>\n",
              "      <td>-0.199240</td>\n",
              "      <td>0.190635</td>\n",
              "    </tr>\n",
              "    <tr>\n",
              "      <th>37</th>\n",
              "      <td>-0.395303</td>\n",
              "      <td>0.016722</td>\n",
              "    </tr>\n",
              "    <tr>\n",
              "      <th>38</th>\n",
              "      <td>-0.675676</td>\n",
              "      <td>-3.454849</td>\n",
              "    </tr>\n",
              "    <tr>\n",
              "      <th>39</th>\n",
              "      <td>-0.326668</td>\n",
              "      <td>0.157191</td>\n",
              "    </tr>\n",
              "    <tr>\n",
              "      <th>40</th>\n",
              "      <td>1.165807</td>\n",
              "      <td>0.210702</td>\n",
              "    </tr>\n",
              "    <tr>\n",
              "      <th>41</th>\n",
              "      <td>0.218872</td>\n",
              "      <td>-0.832776</td>\n",
              "    </tr>\n",
              "    <tr>\n",
              "      <th>42</th>\n",
              "      <td>0.767224</td>\n",
              "      <td>0.658863</td>\n",
              "    </tr>\n",
              "    <tr>\n",
              "      <th>43</th>\n",
              "      <td>-0.501276</td>\n",
              "      <td>-1.581940</td>\n",
              "    </tr>\n",
              "  </tbody>\n",
              "</table>\n",
              "</div>\n",
              "      <button class=\"colab-df-convert\" onclick=\"convertToInteractive('df-d5afbfe3-9730-43b7-b5ff-47719fb7042d')\"\n",
              "              title=\"Convert this dataframe to an interactive table.\"\n",
              "              style=\"display:none;\">\n",
              "        \n",
              "  <svg xmlns=\"http://www.w3.org/2000/svg\" height=\"24px\"viewBox=\"0 0 24 24\"\n",
              "       width=\"24px\">\n",
              "    <path d=\"M0 0h24v24H0V0z\" fill=\"none\"/>\n",
              "    <path d=\"M18.56 5.44l.94 2.06.94-2.06 2.06-.94-2.06-.94-.94-2.06-.94 2.06-2.06.94zm-11 1L8.5 8.5l.94-2.06 2.06-.94-2.06-.94L8.5 2.5l-.94 2.06-2.06.94zm10 10l.94 2.06.94-2.06 2.06-.94-2.06-.94-.94-2.06-.94 2.06-2.06.94z\"/><path d=\"M17.41 7.96l-1.37-1.37c-.4-.4-.92-.59-1.43-.59-.52 0-1.04.2-1.43.59L10.3 9.45l-7.72 7.72c-.78.78-.78 2.05 0 2.83L4 21.41c.39.39.9.59 1.41.59.51 0 1.02-.2 1.41-.59l7.78-7.78 2.81-2.81c.8-.78.8-2.07 0-2.86zM5.41 20L4 18.59l7.72-7.72 1.47 1.35L5.41 20z\"/>\n",
              "  </svg>\n",
              "      </button>\n",
              "      \n",
              "  <style>\n",
              "    .colab-df-container {\n",
              "      display:flex;\n",
              "      flex-wrap:wrap;\n",
              "      gap: 12px;\n",
              "    }\n",
              "\n",
              "    .colab-df-convert {\n",
              "      background-color: #E8F0FE;\n",
              "      border: none;\n",
              "      border-radius: 50%;\n",
              "      cursor: pointer;\n",
              "      display: none;\n",
              "      fill: #1967D2;\n",
              "      height: 32px;\n",
              "      padding: 0 0 0 0;\n",
              "      width: 32px;\n",
              "    }\n",
              "\n",
              "    .colab-df-convert:hover {\n",
              "      background-color: #E2EBFA;\n",
              "      box-shadow: 0px 1px 2px rgba(60, 64, 67, 0.3), 0px 1px 3px 1px rgba(60, 64, 67, 0.15);\n",
              "      fill: #174EA6;\n",
              "    }\n",
              "\n",
              "    [theme=dark] .colab-df-convert {\n",
              "      background-color: #3B4455;\n",
              "      fill: #D2E3FC;\n",
              "    }\n",
              "\n",
              "    [theme=dark] .colab-df-convert:hover {\n",
              "      background-color: #434B5C;\n",
              "      box-shadow: 0px 1px 3px 1px rgba(0, 0, 0, 0.15);\n",
              "      filter: drop-shadow(0px 1px 2px rgba(0, 0, 0, 0.3));\n",
              "      fill: #FFFFFF;\n",
              "    }\n",
              "  </style>\n",
              "\n",
              "      <script>\n",
              "        const buttonEl =\n",
              "          document.querySelector('#df-d5afbfe3-9730-43b7-b5ff-47719fb7042d button.colab-df-convert');\n",
              "        buttonEl.style.display =\n",
              "          google.colab.kernel.accessAllowed ? 'block' : 'none';\n",
              "\n",
              "        async function convertToInteractive(key) {\n",
              "          const element = document.querySelector('#df-d5afbfe3-9730-43b7-b5ff-47719fb7042d');\n",
              "          const dataTable =\n",
              "            await google.colab.kernel.invokeFunction('convertToInteractive',\n",
              "                                                     [key], {});\n",
              "          if (!dataTable) return;\n",
              "\n",
              "          const docLinkHtml = 'Like what you see? Visit the ' +\n",
              "            '<a target=\"_blank\" href=https://colab.research.google.com/notebooks/data_table.ipynb>data table notebook</a>'\n",
              "            + ' to learn more about interactive tables.';\n",
              "          element.innerHTML = '';\n",
              "          dataTable['output_type'] = 'display_data';\n",
              "          await google.colab.output.renderOutput(dataTable, element);\n",
              "          const docLink = document.createElement('div');\n",
              "          docLink.innerHTML = docLinkHtml;\n",
              "          element.appendChild(docLink);\n",
              "        }\n",
              "      </script>\n",
              "    </div>\n",
              "  </div>\n",
              "  "
            ]
          },
          "metadata": {},
          "execution_count": 118
        }
      ]
    },
    {
      "cell_type": "code",
      "source": [
        "# Scaling the data test\n",
        "\n",
        "X_test_sc = pd.DataFrame(rs.transform(X_test),columns =rs.get_feature_names_out(X_test.columns))\n",
        "X_test_sc"
      ],
      "metadata": {
        "colab": {
          "base_uri": "https://localhost:8080/",
          "height": 394
        },
        "outputId": "765dfd79-e9b5-4169-8107-f8d3c529b8db",
        "id": "DjQivCbMIr4t"
      },
      "execution_count": 119,
      "outputs": [
        {
          "output_type": "execute_result",
          "data": {
            "text/plain": [
              "       Slope      NDVI\n",
              "0   0.465813 -0.518395\n",
              "1  -0.276415 -0.458194\n",
              "2   0.307192 -0.785953\n",
              "3   0.197469  0.190635\n",
              "4   0.058637  0.016722\n",
              "5  -0.126803 -0.872910\n",
              "6  -0.238348  0.063545\n",
              "7   0.397855  0.384615\n",
              "8  -0.260845  0.264214\n",
              "9   0.587669  0.237458\n",
              "10  0.706660  0.458194"
            ],
            "text/html": [
              "\n",
              "  <div id=\"df-e154856b-e851-437e-88d2-60ca54b2a797\">\n",
              "    <div class=\"colab-df-container\">\n",
              "      <div>\n",
              "<style scoped>\n",
              "    .dataframe tbody tr th:only-of-type {\n",
              "        vertical-align: middle;\n",
              "    }\n",
              "\n",
              "    .dataframe tbody tr th {\n",
              "        vertical-align: top;\n",
              "    }\n",
              "\n",
              "    .dataframe thead th {\n",
              "        text-align: right;\n",
              "    }\n",
              "</style>\n",
              "<table border=\"1\" class=\"dataframe\">\n",
              "  <thead>\n",
              "    <tr style=\"text-align: right;\">\n",
              "      <th></th>\n",
              "      <th>Slope</th>\n",
              "      <th>NDVI</th>\n",
              "    </tr>\n",
              "  </thead>\n",
              "  <tbody>\n",
              "    <tr>\n",
              "      <th>0</th>\n",
              "      <td>0.465813</td>\n",
              "      <td>-0.518395</td>\n",
              "    </tr>\n",
              "    <tr>\n",
              "      <th>1</th>\n",
              "      <td>-0.276415</td>\n",
              "      <td>-0.458194</td>\n",
              "    </tr>\n",
              "    <tr>\n",
              "      <th>2</th>\n",
              "      <td>0.307192</td>\n",
              "      <td>-0.785953</td>\n",
              "    </tr>\n",
              "    <tr>\n",
              "      <th>3</th>\n",
              "      <td>0.197469</td>\n",
              "      <td>0.190635</td>\n",
              "    </tr>\n",
              "    <tr>\n",
              "      <th>4</th>\n",
              "      <td>0.058637</td>\n",
              "      <td>0.016722</td>\n",
              "    </tr>\n",
              "    <tr>\n",
              "      <th>5</th>\n",
              "      <td>-0.126803</td>\n",
              "      <td>-0.872910</td>\n",
              "    </tr>\n",
              "    <tr>\n",
              "      <th>6</th>\n",
              "      <td>-0.238348</td>\n",
              "      <td>0.063545</td>\n",
              "    </tr>\n",
              "    <tr>\n",
              "      <th>7</th>\n",
              "      <td>0.397855</td>\n",
              "      <td>0.384615</td>\n",
              "    </tr>\n",
              "    <tr>\n",
              "      <th>8</th>\n",
              "      <td>-0.260845</td>\n",
              "      <td>0.264214</td>\n",
              "    </tr>\n",
              "    <tr>\n",
              "      <th>9</th>\n",
              "      <td>0.587669</td>\n",
              "      <td>0.237458</td>\n",
              "    </tr>\n",
              "    <tr>\n",
              "      <th>10</th>\n",
              "      <td>0.706660</td>\n",
              "      <td>0.458194</td>\n",
              "    </tr>\n",
              "  </tbody>\n",
              "</table>\n",
              "</div>\n",
              "      <button class=\"colab-df-convert\" onclick=\"convertToInteractive('df-e154856b-e851-437e-88d2-60ca54b2a797')\"\n",
              "              title=\"Convert this dataframe to an interactive table.\"\n",
              "              style=\"display:none;\">\n",
              "        \n",
              "  <svg xmlns=\"http://www.w3.org/2000/svg\" height=\"24px\"viewBox=\"0 0 24 24\"\n",
              "       width=\"24px\">\n",
              "    <path d=\"M0 0h24v24H0V0z\" fill=\"none\"/>\n",
              "    <path d=\"M18.56 5.44l.94 2.06.94-2.06 2.06-.94-2.06-.94-.94-2.06-.94 2.06-2.06.94zm-11 1L8.5 8.5l.94-2.06 2.06-.94-2.06-.94L8.5 2.5l-.94 2.06-2.06.94zm10 10l.94 2.06.94-2.06 2.06-.94-2.06-.94-.94-2.06-.94 2.06-2.06.94z\"/><path d=\"M17.41 7.96l-1.37-1.37c-.4-.4-.92-.59-1.43-.59-.52 0-1.04.2-1.43.59L10.3 9.45l-7.72 7.72c-.78.78-.78 2.05 0 2.83L4 21.41c.39.39.9.59 1.41.59.51 0 1.02-.2 1.41-.59l7.78-7.78 2.81-2.81c.8-.78.8-2.07 0-2.86zM5.41 20L4 18.59l7.72-7.72 1.47 1.35L5.41 20z\"/>\n",
              "  </svg>\n",
              "      </button>\n",
              "      \n",
              "  <style>\n",
              "    .colab-df-container {\n",
              "      display:flex;\n",
              "      flex-wrap:wrap;\n",
              "      gap: 12px;\n",
              "    }\n",
              "\n",
              "    .colab-df-convert {\n",
              "      background-color: #E8F0FE;\n",
              "      border: none;\n",
              "      border-radius: 50%;\n",
              "      cursor: pointer;\n",
              "      display: none;\n",
              "      fill: #1967D2;\n",
              "      height: 32px;\n",
              "      padding: 0 0 0 0;\n",
              "      width: 32px;\n",
              "    }\n",
              "\n",
              "    .colab-df-convert:hover {\n",
              "      background-color: #E2EBFA;\n",
              "      box-shadow: 0px 1px 2px rgba(60, 64, 67, 0.3), 0px 1px 3px 1px rgba(60, 64, 67, 0.15);\n",
              "      fill: #174EA6;\n",
              "    }\n",
              "\n",
              "    [theme=dark] .colab-df-convert {\n",
              "      background-color: #3B4455;\n",
              "      fill: #D2E3FC;\n",
              "    }\n",
              "\n",
              "    [theme=dark] .colab-df-convert:hover {\n",
              "      background-color: #434B5C;\n",
              "      box-shadow: 0px 1px 3px 1px rgba(0, 0, 0, 0.15);\n",
              "      filter: drop-shadow(0px 1px 2px rgba(0, 0, 0, 0.3));\n",
              "      fill: #FFFFFF;\n",
              "    }\n",
              "  </style>\n",
              "\n",
              "      <script>\n",
              "        const buttonEl =\n",
              "          document.querySelector('#df-e154856b-e851-437e-88d2-60ca54b2a797 button.colab-df-convert');\n",
              "        buttonEl.style.display =\n",
              "          google.colab.kernel.accessAllowed ? 'block' : 'none';\n",
              "\n",
              "        async function convertToInteractive(key) {\n",
              "          const element = document.querySelector('#df-e154856b-e851-437e-88d2-60ca54b2a797');\n",
              "          const dataTable =\n",
              "            await google.colab.kernel.invokeFunction('convertToInteractive',\n",
              "                                                     [key], {});\n",
              "          if (!dataTable) return;\n",
              "\n",
              "          const docLinkHtml = 'Like what you see? Visit the ' +\n",
              "            '<a target=\"_blank\" href=https://colab.research.google.com/notebooks/data_table.ipynb>data table notebook</a>'\n",
              "            + ' to learn more about interactive tables.';\n",
              "          element.innerHTML = '';\n",
              "          dataTable['output_type'] = 'display_data';\n",
              "          await google.colab.output.renderOutput(dataTable, element);\n",
              "          const docLink = document.createElement('div');\n",
              "          docLink.innerHTML = docLinkHtml;\n",
              "          element.appendChild(docLink);\n",
              "        }\n",
              "      </script>\n",
              "    </div>\n",
              "  </div>\n",
              "  "
            ]
          },
          "metadata": {},
          "execution_count": 119
        }
      ]
    },
    {
      "cell_type": "markdown",
      "source": [
        "## 2. Feature Selection"
      ],
      "metadata": {
        "id": "bxihn1e678k2"
      }
    },
    {
      "cell_type": "code",
      "source": [
        "# Looking at the correlation of each variable\n",
        "\n",
        "corr = df.corr(method='spearman')\n",
        "sns.heatmap(corr,annot=True)"
      ],
      "metadata": {
        "id": "2VvVuwHK8Byq",
        "colab": {
          "base_uri": "https://localhost:8080/",
          "height": 287
        },
        "outputId": "830a4aef-7753-4b49-cde6-3be8a57b1efd"
      },
      "execution_count": 120,
      "outputs": [
        {
          "output_type": "execute_result",
          "data": {
            "text/plain": [
              "<matplotlib.axes._subplots.AxesSubplot at 0x7fa2075aa3d0>"
            ]
          },
          "metadata": {},
          "execution_count": 120
        },
        {
          "output_type": "display_data",
          "data": {
            "text/plain": [
              "<Figure size 432x288 with 2 Axes>"
            ],
            "image/png": "[encoded data removed]"
          },
          "metadata": {
            "needs_background": "light"
          }
        }
      ]
    },
    {
      "cell_type": "markdown",
      "source": [
        "# Modelling"
      ],
      "metadata": {
        "id": "yuKHl_vRmEL8"
      }
    },
    {
      "cell_type": "code",
      "source": [
        "# Declaring the custom function for checking every regression metrics\n",
        "\n",
        "def regrp(estimator, x, y, label):\n",
        "    y_pred = estimator.predict(x)\n",
        "    r2 = r2_score(y, y_pred)\n",
        "    mse = mean_squared_error(y, y_pred)\n",
        "    rmse = mean_squared_error(y, y_pred, squared=False)\n",
        "    mae = mean_absolute_error(y, y_pred)\n",
        "    met_df = pd.DataFrame({'r2':r2,\n",
        "             'mse':mse,\n",
        "             'rmse':rmse,\n",
        "             'mae':mae}, index = [label])\n",
        "    return met_df\n",
        "\n",
        "def merg(a):\n",
        "    b = pd.DataFrame()\n",
        "    for x in a:\n",
        "        b = pd.concat([b,x], axis=0)\n",
        "    print(b)"
      ],
      "metadata": {
        "id": "myWr6_vcLVBG"
      },
      "execution_count": 121,
      "outputs": []
    },
    {
      "cell_type": "code",
      "source": [
        "# Tunning degree parameter before declares the linear model\n",
        "\n",
        "param = np.arange(1,4,1)\n",
        "train=[]\n",
        "valid=[]\n",
        "a=[]\n",
        "\n",
        "for x in param:\n",
        "  pipeline = make_pipeline(PolynomialFeatures(degree=x, include_bias=False),LinearRegression())\n",
        "  result=cross_validate(pipeline,\n",
        "                          X_train_sc,\n",
        "                          y_train,\n",
        "                          cv=5,\n",
        "                          scoring='neg_mean_squared_error',\n",
        "                          return_train_score = True)\n",
        "  train.append(result['train_score'].mean())\n",
        "  valid.append(result['test_score'].mean())\n",
        "  a.append(x)\n",
        "\n",
        "sns.lineplot(x=a,y=train,label='train')\n",
        "sns.lineplot(x=a,y=valid,label='valid')\n",
        "plt.show()"
      ],
      "metadata": {
        "colab": {
          "base_uri": "https://localhost:8080/",
          "height": 265
        },
        "outputId": "48808388-15a8-4bf8-d6cd-0d8069bf35db",
        "id": "RqtdbApUW88W"
      },
      "execution_count": 122,
      "outputs": [
        {
          "output_type": "display_data",
          "data": {
            "text/plain": [
              "<Figure size 432x288 with 1 Axes>"
            ],
            "image/png": "[encoded data removed]"
          },
          "metadata": {
            "needs_background": "light"
          }
        }
      ]
    },
    {
      "cell_type": "code",
      "source": [
        "# Declaring the linear and non-linear models\n",
        "\n",
        "linear = LinearRegression()\n",
        "ridge = Ridge()\n",
        "lasso = Lasso()\n",
        "elastic = ElasticNet()\n",
        "\n",
        "dt = DecisionTreeRegressor(random_state=42)\n",
        "rf = RandomForestRegressor(random_state=42)\n",
        "ada = AdaBoostRegressor(random_state=42)\n",
        "xg = XGBRegressor(random_state=42)"
      ],
      "metadata": {
        "id": "PRf-_-_k8LAQ"
      },
      "execution_count": 123,
      "outputs": []
    },
    {
      "cell_type": "code",
      "source": [
        "# Fitting the models\n",
        "\n",
        "linear.fit(X_train_sc,y_train)\n",
        "lasso.fit(X_train_sc,y_train)\n",
        "ridge.fit(X_train_sc,y_train)\n",
        "elastic.fit(X_train_sc,y_train)\n",
        "\n",
        "dt.fit(X_train_sc,y_train)\n",
        "rf.fit(X_train_sc,y_train)\n",
        "ada.fit(X_train_sc,y_train)\n",
        "xg.fit(X_train_sc,y_train)"
      ],
      "metadata": {
        "colab": {
          "base_uri": "https://localhost:8080/"
        },
        "id": "1xnT5zYOK1sp",
        "outputId": "ec8187ef-9fcb-4961-b7b9-21817ea72085"
      },
      "execution_count": 124,
      "outputs": [
        {
          "output_type": "stream",
          "name": "stdout",
          "text": [
            "[12:12:26] WARNING: /workspace/src/objective/regression_obj.cu:152: reg:linear is now deprecated in favor of reg:squarederror.\n"
          ]
        },
        {
          "output_type": "execute_result",
          "data": {
            "text/plain": [
              "XGBRegressor(random_state=42)"
            ]
          },
          "metadata": {},
          "execution_count": 124
        }
      ]
    },
    {
      "cell_type": "code",
      "source": [
        "# Checking the model performance using custom function\n",
        "\n",
        "merg([regrp(linear,X_train_sc,y_train,'Train_linear'),\n",
        "      regrp(linear,X_test_sc,y_test,'Test_linear'),\n",
        "      regrp(ridge,X_train_sc,y_train,'Train_ridge'),\n",
        "      regrp(ridge,X_test_sc,y_test,'Test_ridge'),\n",
        "      regrp(lasso,X_train_sc,y_train,'Train_lasso'),\n",
        "      regrp(lasso,X_test_sc,y_test,'Test_lasso'),\n",
        "      regrp(elastic,X_train_sc,y_train,'Train_elastic'),\n",
        "      regrp(elastic,X_test_sc,y_test,'Test_elastic'),\n",
        "      regrp(dt,X_train_sc,y_train,'Train_dt'),\n",
        "      regrp(dt,X_test_sc,y_test,'Test_dt'),\n",
        "      regrp(rf,X_train_sc,y_train,'Train_rf'),\n",
        "      regrp(rf,X_test_sc,y_test,'Test_rf'),\n",
        "      regrp(ada,X_train_sc,y_train,'Train_ada'),\n",
        "      regrp(ada,X_test_sc,y_test,'Test_ada'),\n",
        "      regrp(xg,X_train_sc,y_train,'xg_train'),\n",
        "      regrp(xg,X_test_sc,y_test,'xg_test')\n",
        "            ])"
      ],
      "metadata": {
        "colab": {
          "base_uri": "https://localhost:8080/"
        },
        "id": "gis3VLNlL9ts",
        "outputId": "3e44ba72-676e-40e2-c046-0602e31a570f"
      },
      "execution_count": 163,
      "outputs": [
        {
          "output_type": "stream",
          "name": "stdout",
          "text": [
            "                     r2       mse      rmse       mae\n",
            "Train_linear   0.314003  1.593302  1.262261  1.013728\n",
            "Test_linear    0.157589  1.795255  1.339871  1.241614\n",
            "Train_ridge    0.313882  1.593583  1.262372  1.014788\n",
            "Test_ridge     0.155286  1.800163  1.341702  1.242603\n",
            "Train_lasso    0.000000  2.322607  1.524010  1.233463\n",
            "Test_lasso    -0.017229  2.167807  1.472347  1.254552\n",
            "Train_elastic  0.100482  2.089228  1.445416  1.173127\n",
            "Test_elastic   0.021650  2.084954  1.443937  1.268575\n",
            "Train_dt       1.000000  0.000000  0.000000  0.000000\n",
            "Test_dt       -1.321790  4.947945  2.224398  1.660455\n",
            "Train_rf       0.879734  0.279330  0.528517  0.386457\n",
            "Test_rf       -0.128804  2.405584  1.550995  1.241767\n",
            "Train_ada      0.883742  0.270023  0.519637  0.449820\n",
            "Test_ada      -0.502145  3.201207  1.789192  1.361558\n",
            "xg_train       0.969243  0.071437  0.267277  0.205469\n",
            "xg_test       -0.460076  3.111556  1.763960  1.398374\n"
          ]
        }
      ]
    },
    {
      "cell_type": "code",
      "source": [
        "# Based on the result above, there were some model picked:\n",
        "\n",
        "# Linear : Linear, Ridge\n",
        "# NonLinear: XGBoost, Random forest"
      ],
      "metadata": {
        "id": "Juf9ENOrxRqA"
      },
      "execution_count": 126,
      "outputs": []
    },
    {
      "cell_type": "markdown",
      "source": [
        "## Ridge"
      ],
      "metadata": {
        "id": "jfZIWw2dnS9c"
      }
    },
    {
      "cell_type": "code",
      "source": [
        "# Tunning alpha parameters for ridge model\n",
        "\n",
        "alpha = 0.01,0.1,1,10,100\n",
        "train=[]\n",
        "valid=[]\n",
        "a=[]\n",
        "\n",
        "for x in alpha:\n",
        "  result=cross_validate(Ridge(alpha=x),\n",
        "                          X_train_sc,\n",
        "                          y_train,\n",
        "                          cv=5,\n",
        "                          scoring='neg_mean_squared_error',\n",
        "                          return_train_score = True)\n",
        "  train.append(result['train_score'].mean())\n",
        "  valid.append(result['test_score'].mean())\n",
        "  a.append(x)\n",
        "\n",
        "sns.lineplot(x=a,y=train,label='train')\n",
        "sns.lineplot(x=a,y=valid,label='valid')\n",
        "plt.show()"
      ],
      "metadata": {
        "colab": {
          "base_uri": "https://localhost:8080/",
          "height": 265
        },
        "id": "bd2QDS6HTN40",
        "outputId": "ed6d9b61-e767-4b58-be3e-453e0f8824a0"
      },
      "execution_count": 127,
      "outputs": [
        {
          "output_type": "display_data",
          "data": {
            "text/plain": [
              "<Figure size 432x288 with 1 Axes>"
            ],
            "image/png": "[encoded data removed]"
          },
          "metadata": {
            "needs_background": "light"
          }
        }
      ]
    },
    {
      "cell_type": "code",
      "source": [
        "a[np.argmax(valid)]"
      ],
      "metadata": {
        "colab": {
          "base_uri": "https://localhost:8080/"
        },
        "outputId": "d983eeb4-75f8-4cd4-d314-574855ebaf75",
        "id": "pFw3jYs6njmJ"
      },
      "execution_count": 128,
      "outputs": [
        {
          "output_type": "execute_result",
          "data": {
            "text/plain": [
              "10"
            ]
          },
          "metadata": {},
          "execution_count": 128
        }
      ]
    },
    {
      "cell_type": "code",
      "execution_count": 129,
      "metadata": {
        "colab": {
          "base_uri": "https://localhost:8080/"
        },
        "id": "n0AAI8Cfnv_t",
        "outputId": "fc04b0fe-5871-4eed-c916-20ded4cf320a"
      },
      "outputs": [
        {
          "output_type": "execute_result",
          "data": {
            "text/plain": [
              "Ridge(alpha=10)"
            ]
          },
          "metadata": {},
          "execution_count": 129
        }
      ],
      "source": [
        "# Declaring the optimized model for ridge\n",
        "\n",
        "ridge_opt = Ridge(alpha=10)\n",
        "ridge_opt.fit(X_train_sc, y_train)"
      ]
    },
    {
      "cell_type": "code",
      "source": [
        "# Chechking the optimized ridge performance\n",
        "\n",
        "merg([regrp(ridge_opt, X_train_sc, y_train, 'train_rf_opt'),\n",
        "     regrp(ridge_opt, X_test_sc, y_test, 'test_rf_opt')])"
      ],
      "metadata": {
        "colab": {
          "base_uri": "https://localhost:8080/"
        },
        "outputId": "cf391dce-6aeb-4acb-fd61-551d71eac8a2",
        "id": "0HV2Zl8cnv_t"
      },
      "execution_count": 130,
      "outputs": [
        {
          "output_type": "stream",
          "name": "stdout",
          "text": [
            "                    r2       mse      rmse       mae\n",
            "train_rf_opt  0.305598  1.612823  1.269970  1.021540\n",
            "test_rf_opt   0.137299  1.838494  1.355911  1.248701\n"
          ]
        }
      ]
    },
    {
      "cell_type": "markdown",
      "source": [
        "## Random Forest"
      ],
      "metadata": {
        "id": "xf_PJos7PhMQ"
      }
    },
    {
      "cell_type": "code",
      "execution_count": 131,
      "metadata": {
        "id": "57218629-d28f-4a84-81d6-d844d2bad22d",
        "outputId": "58f9663f-91d0-4e80-ffb8-106535bf308f",
        "colab": {
          "base_uri": "https://localhost:8080/",
          "height": 265
        }
      },
      "outputs": [
        {
          "output_type": "display_data",
          "data": {
            "text/plain": [
              "<Figure size 432x288 with 1 Axes>"
            ],
            "image/png": "[encoded data removed]"
          },
          "metadata": {
            "needs_background": "light"
          }
        }
      ],
      "source": [
        "# Tunning n_estimators parameters for RF model\n",
        "\n",
        "par = np.arange(1,50,1)\n",
        "train = []\n",
        "valid = []\n",
        "a = []\n",
        "for x in par:\n",
        "    result = cross_validate(RandomForestRegressor(n_estimators=x, \n",
        "                                                  random_state=42),\n",
        "                            X_train,\n",
        "                            y_train,\n",
        "                            scoring='neg_mean_squared_error',\n",
        "                            return_train_score= True)\n",
        "    train.append(result['train_score'].mean())\n",
        "    valid.append(result['test_score'].mean())\n",
        "    a.append(x)\n",
        "    \n",
        "sns.lineplot(x = a, y=train, label='train')\n",
        "sns.lineplot(x = a, y=valid, label='valid')\n",
        "plt.show()"
      ]
    },
    {
      "cell_type": "code",
      "source": [
        "a[np.argmax(valid)]"
      ],
      "metadata": {
        "colab": {
          "base_uri": "https://localhost:8080/"
        },
        "id": "I9rpAcn3QW5i",
        "outputId": "ebd70c88-c9f0-4926-b7e9-917f1e0c4c47"
      },
      "execution_count": 132,
      "outputs": [
        {
          "output_type": "execute_result",
          "data": {
            "text/plain": [
              "8"
            ]
          },
          "metadata": {},
          "execution_count": 132
        }
      ]
    },
    {
      "cell_type": "code",
      "execution_count": 133,
      "metadata": {
        "id": "205ca078-db32-4d49-b437-31186814b199",
        "outputId": "f26413a7-f3a7-458e-ca0f-7a638478e971",
        "colab": {
          "base_uri": "https://localhost:8080/",
          "height": 265
        }
      },
      "outputs": [
        {
          "output_type": "display_data",
          "data": {
            "text/plain": [
              "<Figure size 432x288 with 1 Axes>"
            ],
            "image/png": "[encoded data removed]"
          },
          "metadata": {
            "needs_background": "light"
          }
        }
      ],
      "source": [
        "# Tunning max_samples parameters for RF model\n",
        "\n",
        "par = np.arange(5,40,5)\n",
        "train = []\n",
        "valid = []\n",
        "a = []\n",
        "for x in par:\n",
        "    result = cross_validate(RandomForestRegressor(n_estimators=8,\n",
        "                                                 max_samples=x,\n",
        "                                                  random_state=42),\n",
        "                            X_train_sc,\n",
        "                            y_train,\n",
        "                            scoring='neg_mean_squared_error',\n",
        "                            return_train_score= True)\n",
        "    train.append(result['train_score'].mean())\n",
        "    valid.append(result['test_score'].mean())\n",
        "    a.append(x)\n",
        "    \n",
        "sns.lineplot(x = a, y=train, label='train')\n",
        "sns.lineplot(x = a, y=valid, label='valid')\n",
        "plt.show()"
      ]
    },
    {
      "cell_type": "code",
      "source": [
        "a[np.argmax(valid)]"
      ],
      "metadata": {
        "colab": {
          "base_uri": "https://localhost:8080/"
        },
        "outputId": "f31b9341-7f19-4062-b557-c7aab316e31e",
        "id": "tDY5gwwiRuhk"
      },
      "execution_count": 134,
      "outputs": [
        {
          "output_type": "execute_result",
          "data": {
            "text/plain": [
              "35"
            ]
          },
          "metadata": {},
          "execution_count": 134
        }
      ]
    },
    {
      "cell_type": "code",
      "execution_count": 135,
      "metadata": {
        "id": "6f79c6ff-c844-4f0c-9cf5-763983da1260",
        "outputId": "eab2077a-3d27-480a-adab-1e8900033927",
        "colab": {
          "base_uri": "https://localhost:8080/",
          "height": 265
        }
      },
      "outputs": [
        {
          "output_type": "display_data",
          "data": {
            "text/plain": [
              "<Figure size 432x288 with 1 Axes>"
            ],
            "image/png": "[encoded data removed]"
          },
          "metadata": {
            "needs_background": "light"
          }
        }
      ],
      "source": [
        "# Tunning max_depth parameters for RF model\n",
        "\n",
        "par = np.arange(1,7,1)\n",
        "train = []\n",
        "valid = []\n",
        "a = []\n",
        "for x in par:\n",
        "    result = cross_validate(RandomForestRegressor(n_estimators=8,\n",
        "                                                 max_samples=35,\n",
        "                                                 max_depth=x,\n",
        "                                                  random_state=42),\n",
        "                            X_train_sc,\n",
        "                            y_train,\n",
        "                            scoring='neg_mean_squared_error',\n",
        "                            return_train_score= True)\n",
        "    train.append(result['train_score'].mean())\n",
        "    valid.append(result['test_score'].mean())\n",
        "    a.append(x)\n",
        "    \n",
        "sns.lineplot(x = a, y=train, label='train')\n",
        "sns.lineplot(x = a, y=valid, label='valid')\n",
        "plt.show()"
      ]
    },
    {
      "cell_type": "code",
      "source": [
        "a[np.argmax(valid)]"
      ],
      "metadata": {
        "colab": {
          "base_uri": "https://localhost:8080/"
        },
        "outputId": "e8a4a6fd-6f52-4ac7-d1ba-871f9410b478",
        "id": "TwvE0DktR9-x"
      },
      "execution_count": 136,
      "outputs": [
        {
          "output_type": "execute_result",
          "data": {
            "text/plain": [
              "6"
            ]
          },
          "metadata": {},
          "execution_count": 136
        }
      ]
    },
    {
      "cell_type": "code",
      "execution_count": 137,
      "metadata": {
        "id": "ce130abb-00dd-42a2-a2cf-3b06143f2700",
        "outputId": "c645f231-19a8-4563-b402-3ed0275ecd01",
        "colab": {
          "base_uri": "https://localhost:8080/",
          "height": 265
        }
      },
      "outputs": [
        {
          "output_type": "display_data",
          "data": {
            "text/plain": [
              "<Figure size 432x288 with 1 Axes>"
            ],
            "image/png": "[encoded data removed]"
          },
          "metadata": {
            "needs_background": "light"
          }
        }
      ],
      "source": [
        "# Tunning min_samples_split parameters for RF model\n",
        "\n",
        "par = np.arange(1,30,1)\n",
        "train = []\n",
        "valid = []\n",
        "a = []\n",
        "for x in par :\n",
        "    result = cross_validate(RandomForestRegressor(n_estimators=8,\n",
        "                                                 max_samples=35,\n",
        "                                                 max_depth=6,\n",
        "                                                 min_samples_split=x,\n",
        "                                                  random_state=42),\n",
        "                            X_train_sc,\n",
        "                            y_train,\n",
        "                            scoring='neg_mean_squared_error',\n",
        "                            return_train_score= True)\n",
        "    train.append(result['train_score'].mean())\n",
        "    valid.append(result['test_score'].mean())\n",
        "    a.append(x)\n",
        "    \n",
        "sns.lineplot(x = a, y=train, label='train')\n",
        "sns.lineplot(x = a, y=valid, label='valid')\n",
        "plt.show()"
      ]
    },
    {
      "cell_type": "code",
      "execution_count": 138,
      "metadata": {
        "id": "d0a2d08b-01ec-4eab-8e49-4802086a3854",
        "outputId": "9f2f50ce-8769-4291-a766-c4cac99086b3",
        "colab": {
          "base_uri": "https://localhost:8080/",
          "height": 265
        }
      },
      "outputs": [
        {
          "output_type": "display_data",
          "data": {
            "text/plain": [
              "<Figure size 432x288 with 1 Axes>"
            ],
            "image/png": "[encoded data removed]"
          },
          "metadata": {
            "needs_background": "light"
          }
        }
      ],
      "source": [
        "# Tunning min_samples_leaf parameters for RF model\n",
        "\n",
        "par = np.arange(1,10,1)\n",
        "train = []\n",
        "valid = []\n",
        "a = []\n",
        "for x in par:\n",
        "    np.random.seed(42)\n",
        "    result = cross_validate(RandomForestRegressor(n_estimators=8,\n",
        "                                                 max_samples=35,\n",
        "                                                 max_depth=6,\n",
        "                                                 min_samples_leaf=x),\n",
        "                            X_train_sc,\n",
        "                            y_train,\n",
        "                            scoring='neg_mean_squared_error',\n",
        "                            return_train_score= True)\n",
        "    train.append(result['train_score'].mean())\n",
        "    valid.append(result['test_score'].mean())\n",
        "    a.append(x)\n",
        "    \n",
        "sns.lineplot(x = a, y=train, label='train')\n",
        "sns.lineplot(x = a, y=valid, label='valid')\n",
        "plt.show()"
      ]
    },
    {
      "cell_type": "code",
      "source": [
        "a[np.argmax(valid)]"
      ],
      "metadata": {
        "colab": {
          "base_uri": "https://localhost:8080/"
        },
        "outputId": "7f4ab130-04a2-478f-b823-7d0f60915d75",
        "id": "XIIHEWLcTmmu"
      },
      "execution_count": 139,
      "outputs": [
        {
          "output_type": "execute_result",
          "data": {
            "text/plain": [
              "5"
            ]
          },
          "metadata": {},
          "execution_count": 139
        }
      ]
    },
    {
      "cell_type": "code",
      "execution_count": 158,
      "metadata": {
        "id": "203bff46-8c61-47e6-bec2-aaf61e7bc25e"
      },
      "outputs": [],
      "source": [
        "# Declaring the optimized model for Random Forest\n",
        "\n",
        "rf_opt = RandomForestRegressor(n_estimators=8,\n",
        "                                   max_samples=35,\n",
        "                                   max_depth=6,\n",
        "                                   min_samples_leaf=5,\n",
        "                                   random_state=42)"
      ]
    },
    {
      "cell_type": "code",
      "execution_count": 159,
      "metadata": {
        "id": "07f845cd-8b79-4aea-abe4-0c6c3f5a3f2c",
        "outputId": "f1f12cba-1f76-48e7-b588-efc792222def",
        "colab": {
          "base_uri": "https://localhost:8080/"
        }
      },
      "outputs": [
        {
          "output_type": "execute_result",
          "data": {
            "text/plain": [
              "RandomForestRegressor(max_depth=6, max_samples=35, min_samples_leaf=5,\n",
              "                      n_estimators=8, random_state=42)"
            ]
          },
          "metadata": {},
          "execution_count": 159
        }
      ],
      "source": [
        "# Fitting the optimized RF model\n",
        "\n",
        "rf_opt.fit(X_train_sc, y_train)"
      ]
    },
    {
      "cell_type": "code",
      "source": [
        "# Checking the the optimized RF model performance \n",
        "\n",
        "merg([regrp(rf_opt, X_train_sc, y_train, 'train_rf_opt'),\n",
        "     regrp(rf_opt, X_test_sc, y_test, 'test_rf_opt')])"
      ],
      "metadata": {
        "colab": {
          "base_uri": "https://localhost:8080/"
        },
        "id": "VVJyHbwptS07",
        "outputId": "511ebd2e-6577-4a3e-99cd-51ebe147e929"
      },
      "execution_count": 160,
      "outputs": [
        {
          "output_type": "stream",
          "name": "stdout",
          "text": [
            "                    r2       mse      rmse       mae\n",
            "train_rf_opt  0.442229  1.295483  1.138193  0.890323\n",
            "test_rf_opt   0.046283  2.032457  1.425643  1.236558\n"
          ]
        }
      ]
    },
    {
      "cell_type": "markdown",
      "source": [
        "## XGBoost"
      ],
      "metadata": {
        "id": "8IRbkHsTUnSk"
      }
    },
    {
      "cell_type": "code",
      "execution_count": 143,
      "metadata": {
        "id": "943dfe95-22b9-4453-a423-25e9ff4a5ad1",
        "outputId": "de1331cc-c2ae-45ed-8348-baf5a63d6c6b",
        "colab": {
          "base_uri": "https://localhost:8080/",
          "height": 265
        }
      },
      "outputs": [
        {
          "output_type": "display_data",
          "data": {
            "text/plain": [
              "<Figure size 432x288 with 1 Axes>"
            ],
            "image/png": "[encoded data removed]"
          },
          "metadata": {
            "needs_background": "light"
          }
        }
      ],
      "source": [
        "# Tunning learning_rate parameters for XGBoost model\n",
        "\n",
        "par = np.arange(0.01,0.05,0.001)\n",
        "train = []\n",
        "valid = []\n",
        "a = []\n",
        "for x in par:\n",
        "    result = cross_validate(XGBRegressor(learning_rate=x, \n",
        "                                         random_state=42,\n",
        "                                         verbosity=0),\n",
        "                            X_train_sc,\n",
        "                            y_train,\n",
        "                            scoring='neg_mean_squared_error',\n",
        "                            return_train_score= True)\n",
        "    train.append(result['train_score'].mean())\n",
        "    valid.append(result['test_score'].mean())\n",
        "    a.append(x)\n",
        "    \n",
        "sns.lineplot(x = a, y=train, label='train')\n",
        "sns.lineplot(x = a, y=valid, label='valid')\n",
        "plt.show()"
      ]
    },
    {
      "cell_type": "code",
      "source": [
        "a[np.argmax(valid)]"
      ],
      "metadata": {
        "colab": {
          "base_uri": "https://localhost:8080/"
        },
        "outputId": "cb3d7c55-56de-4f3b-b837-55baa4ca2706",
        "id": "8KFPDiCYVMnm"
      },
      "execution_count": 144,
      "outputs": [
        {
          "output_type": "execute_result",
          "data": {
            "text/plain": [
              "0.018999999999999993"
            ]
          },
          "metadata": {},
          "execution_count": 144
        }
      ]
    },
    {
      "cell_type": "code",
      "execution_count": 145,
      "metadata": {
        "id": "0e520afe-fd91-47ff-ad8f-209a58edefb8",
        "outputId": "1f5552bb-ea75-49cc-b81b-c8623c3bb8e5",
        "colab": {
          "base_uri": "https://localhost:8080/",
          "height": 265
        }
      },
      "outputs": [
        {
          "output_type": "display_data",
          "data": {
            "text/plain": [
              "<Figure size 432x288 with 1 Axes>"
            ],
            "image/png": "[encoded data removed]"
          },
          "metadata": {
            "needs_background": "light"
          }
        }
      ],
      "source": [
        "# Tunning n_estimators parameters for XGBoost model\n",
        "\n",
        "par = 50,100,150,300\n",
        "train = []\n",
        "valid = []\n",
        "a = []\n",
        "for x in par:\n",
        "    result = cross_validate(XGBRegressor(learning_rate=0.02,\n",
        "                                         n_estimators=x,\n",
        "                                         random_state=42,\n",
        "                                         verbosity=0),\n",
        "                            X_train_sc,\n",
        "                            y_train,\n",
        "                            scoring='neg_mean_squared_error',\n",
        "                            return_train_score= True)\n",
        "    train.append(result['train_score'].mean())\n",
        "    valid.append(result['test_score'].mean())\n",
        "    a.append(x)\n",
        "    \n",
        "sns.lineplot(x = a, y=train, label='train')\n",
        "sns.lineplot(x = a, y=valid, label='valid')\n",
        "plt.show()"
      ]
    },
    {
      "cell_type": "code",
      "source": [
        "a[np.argmax(valid)]"
      ],
      "metadata": {
        "colab": {
          "base_uri": "https://localhost:8080/"
        },
        "outputId": "3d5b74ba-c358-4120-9979-30fb09768d91",
        "id": "woseppCKVaST"
      },
      "execution_count": 146,
      "outputs": [
        {
          "output_type": "execute_result",
          "data": {
            "text/plain": [
              "100"
            ]
          },
          "metadata": {},
          "execution_count": 146
        }
      ]
    },
    {
      "cell_type": "code",
      "execution_count": 147,
      "metadata": {
        "id": "ae53cefe-2dbd-418b-a37c-9a18ba64c63e",
        "outputId": "9c0eee74-cc1d-4127-ffb1-782ca409c117",
        "colab": {
          "base_uri": "https://localhost:8080/",
          "height": 265
        }
      },
      "outputs": [
        {
          "output_type": "display_data",
          "data": {
            "text/plain": [
              "<Figure size 432x288 with 1 Axes>"
            ],
            "image/png": "[encoded data removed]"
          },
          "metadata": {
            "needs_background": "light"
          }
        }
      ],
      "source": [
        "# Tunning max_depth parameters for XGBoost model\n",
        "\n",
        "par = np.arange(2,10,1)\n",
        "train = []\n",
        "valid = []\n",
        "a = []\n",
        "for x in par:\n",
        "    result = cross_validate(XGBRegressor(learning_rate=0.02,\n",
        "                                         n_estimators=100,\n",
        "                                         max_depth=x,\n",
        "                                         random_state=42,\n",
        "                                         verbosity=0),\n",
        "                            X_train_sc,\n",
        "                            y_train,\n",
        "                            scoring='neg_mean_squared_error',\n",
        "                            return_train_score= True)\n",
        "    train.append(result['train_score'].mean())\n",
        "    valid.append(result['test_score'].mean())\n",
        "    a.append(x)\n",
        "    \n",
        "sns.lineplot(x = a, y=train, label='train')\n",
        "sns.lineplot(x = a, y=valid, label='valid')\n",
        "plt.show()"
      ]
    },
    {
      "cell_type": "code",
      "source": [
        "a[np.argmax(valid)]"
      ],
      "metadata": {
        "colab": {
          "base_uri": "https://localhost:8080/"
        },
        "outputId": "0aa5aed4-f741-4c07-ced5-b88691f9e8cf",
        "id": "mAHS03kmVm0f"
      },
      "execution_count": 148,
      "outputs": [
        {
          "output_type": "execute_result",
          "data": {
            "text/plain": [
              "2"
            ]
          },
          "metadata": {},
          "execution_count": 148
        }
      ]
    },
    {
      "cell_type": "code",
      "execution_count": 149,
      "metadata": {
        "id": "b6a7004e-c848-46fa-babe-f1b17d052e67",
        "outputId": "ea4c0da2-e02b-4a65-eb00-6e670d73ff51",
        "colab": {
          "base_uri": "https://localhost:8080/",
          "height": 265
        }
      },
      "outputs": [
        {
          "output_type": "display_data",
          "data": {
            "text/plain": [
              "<Figure size 432x288 with 1 Axes>"
            ],
            "image/png": "[encoded data removed]"
          },
          "metadata": {
            "needs_background": "light"
          }
        }
      ],
      "source": [
        "# Tunning gamma parameters for XGBoost model\n",
        "\n",
        "par = np.arange(2,50,2)\n",
        "train = []\n",
        "valid = []\n",
        "a = []\n",
        "for x in par:\n",
        "    result = cross_validate(XGBRegressor(learning_rate=0.02,\n",
        "                                         n_estimators=100,\n",
        "                                         random_state=42,\n",
        "                                         verbosity=0,\n",
        "                                        gamma=x),\n",
        "                            X_train_sc,\n",
        "                            y_train,\n",
        "                            scoring='neg_mean_squared_error',\n",
        "                            return_train_score= True)\n",
        "    train.append(result['train_score'].mean())\n",
        "    valid.append(result['test_score'].mean())\n",
        "    a.append(x)\n",
        "    \n",
        "sns.lineplot(x = a, y=train, label='train')\n",
        "sns.lineplot(x = a, y=valid, label='valid')\n",
        "plt.show()"
      ]
    },
    {
      "cell_type": "code",
      "source": [
        "a[np.argmax(valid)]"
      ],
      "metadata": {
        "colab": {
          "base_uri": "https://localhost:8080/"
        },
        "outputId": "7bab45c8-712d-49f4-f007-704ece6b1e9f",
        "id": "lD0wLwmQWAE2"
      },
      "execution_count": 150,
      "outputs": [
        {
          "output_type": "execute_result",
          "data": {
            "text/plain": [
              "4"
            ]
          },
          "metadata": {},
          "execution_count": 150
        }
      ]
    },
    {
      "cell_type": "code",
      "execution_count": 151,
      "metadata": {
        "id": "c1fd2637-f8e9-4f54-8439-674e96add104",
        "outputId": "3948b5bb-2ba1-443f-9be5-fbeea20c7c29",
        "colab": {
          "base_uri": "https://localhost:8080/",
          "height": 265
        }
      },
      "outputs": [
        {
          "output_type": "display_data",
          "data": {
            "text/plain": [
              "<Figure size 432x288 with 1 Axes>"
            ],
            "image/png": "[encoded data removed]"
          },
          "metadata": {
            "needs_background": "light"
          }
        }
      ],
      "source": [
        "# Tunning reg_lambda parameters for XGBoost model\n",
        "\n",
        "par = np.arange(1,10,1)\n",
        "train = []\n",
        "valid = []\n",
        "a = []\n",
        "for x in par:\n",
        "    result = cross_validate(XGBRegressor(learning_rate=0.02,\n",
        "                                         n_estimators=100,\n",
        "                                         random_state=42,\n",
        "                                         gamma=4,\n",
        "                                         verbosity=0,\n",
        "                                        reg_lambda=x),\n",
        "                            X_train_sc,\n",
        "                            y_train,\n",
        "                            scoring='neg_mean_squared_error',\n",
        "                            return_train_score= True)\n",
        "    train.append(result['train_score'].mean())\n",
        "    valid.append(result['test_score'].mean())\n",
        "    a.append(x)\n",
        "    \n",
        "sns.lineplot(x = a, y=train, label='train')\n",
        "sns.lineplot(x = a, y=valid, label='valid')\n",
        "plt.show()"
      ]
    },
    {
      "cell_type": "code",
      "source": [
        "a[np.argmax(valid)]"
      ],
      "metadata": {
        "colab": {
          "base_uri": "https://localhost:8080/"
        },
        "outputId": "e83c326a-e3f4-4ccd-912d-88fc0dbb2651",
        "id": "IxrJbsdFWKm0"
      },
      "execution_count": 152,
      "outputs": [
        {
          "output_type": "execute_result",
          "data": {
            "text/plain": [
              "2"
            ]
          },
          "metadata": {},
          "execution_count": 152
        }
      ]
    },
    {
      "cell_type": "code",
      "execution_count": 161,
      "metadata": {
        "id": "22cf86c3-f7e7-4d63-8d65-0239889ea988",
        "colab": {
          "base_uri": "https://localhost:8080/"
        },
        "outputId": "80f6e005-1612-4181-b177-d08df8e4df4a"
      },
      "outputs": [
        {
          "output_type": "execute_result",
          "data": {
            "text/plain": [
              "XGBRegressor(gamma=4, learning_rate=0.02, random_state=42, reg_lambda=2,\n",
              "             verbosity=0)"
            ]
          },
          "metadata": {},
          "execution_count": 161
        }
      ],
      "source": [
        "# Declaring and fiting the optimized model for XGBoost\n",
        "\n",
        "xgb_opt = XGBRegressor(verbosity = 0,\n",
        "                           learning_rate = 0.02, \n",
        "                           n_estimators = 100, \n",
        "                           gamma = 4, \n",
        "                           random_state = 42, \n",
        "                           reg_lambda = 2)\n",
        "xgb_opt.fit(X_train_sc, y_train)"
      ]
    },
    {
      "cell_type": "code",
      "source": [
        "# Checking the optimized XGBoost model performance\n",
        "\n",
        "merg([regrp(xgb_opt, X_train_sc, y_train, 'Train_xg_opt'),\n",
        "      regrp(xgb_opt, X_test_sc, y_test, 'Test_xg_opt')])"
      ],
      "metadata": {
        "colab": {
          "base_uri": "https://localhost:8080/"
        },
        "id": "E2KB9_A52B7n",
        "outputId": "47021a0e-d140-4dba-c133-5842a1cd0275"
      },
      "execution_count": 162,
      "outputs": [
        {
          "output_type": "stream",
          "name": "stdout",
          "text": [
            "                    r2       mse      rmse       mae\n",
            "Train_xg_opt  0.496094  1.170376  1.081839  0.824188\n",
            "Test_xg_opt   0.172426  1.763636  1.328019  1.105785\n"
          ]
        }
      ]
    },
    {
      "cell_type": "markdown",
      "source": [
        "# Final Model"
      ],
      "metadata": {
        "id": "L4GkJ4RN0ypp"
      }
    },
    {
      "cell_type": "code",
      "source": [
        "# The model performance before tuning\n",
        "\n",
        "merg([regrp(linear,X_train_sc,y_train,'Train_linear'),\n",
        "      regrp(linear,X_test_sc,y_test,'Test_linear'),\n",
        "      regrp(ridge,X_train_sc,y_train,'Train_ridge'),\n",
        "      regrp(ridge,X_test_sc,y_test,'Test_ridge'),\n",
        "      regrp(rf,X_train_sc,y_train,'Train_rf'),\n",
        "      regrp(rf,X_test_sc,y_test,'Test_rf'),\n",
        "      regrp(xg,X_train_sc,y_train,'xg_test'),\n",
        "      regrp(xg,X_test_sc,y_test,'xg_test')\n",
        "            ])"
      ],
      "metadata": {
        "colab": {
          "base_uri": "https://localhost:8080/"
        },
        "id": "hz82hVti01Nf",
        "outputId": "2eead084-8e03-44a1-acc5-e0fe1398431c"
      },
      "execution_count": 156,
      "outputs": [
        {
          "output_type": "stream",
          "name": "stdout",
          "text": [
            "                    r2       mse      rmse       mae\n",
            "Train_linear  0.314003  1.593302  1.262261  1.013728\n",
            "Test_linear   0.157589  1.795255  1.339871  1.241614\n",
            "Train_ridge   0.313882  1.593583  1.262372  1.014788\n",
            "Test_ridge    0.155286  1.800163  1.341702  1.242603\n",
            "Train_rf      0.879734  0.279330  0.528517  0.386457\n",
            "Test_rf      -0.128804  2.405584  1.550995  1.241767\n",
            "xg_test       0.969243  0.071437  0.267277  0.205469\n",
            "xg_test      -0.460076  3.111556  1.763960  1.398374\n"
          ]
        }
      ]
    },
    {
      "cell_type": "code",
      "source": [
        "# The model performance after tuning\n",
        "\n",
        "merg([regrp(ridge_opt,X_train_sc,y_train,'Train_ridge_opt'),\n",
        "      regrp(ridge_opt,X_test_sc,y_test,'Test_ridge_opt'),\n",
        "      regrp(rf_opt,X_train_sc,y_train,'Train_rf_opt'),\n",
        "      regrp(rf_opt,X_test_sc,y_test,'Test_rf_opt'),\n",
        "      regrp(xgb_opt,X_train_sc,y_train,'xg_train_opt'),\n",
        "      regrp(xgb_opt,X_test_sc,y_test,'xg_test_opt')\n",
        "            ])"
      ],
      "metadata": {
        "colab": {
          "base_uri": "https://localhost:8080/"
        },
        "id": "_9M4e2dT01-X",
        "outputId": "79eb2930-83b6-4bf5-cebf-6b902d6ff489"
      },
      "execution_count": 165,
      "outputs": [
        {
          "output_type": "stream",
          "name": "stdout",
          "text": [
            "                       r2       mse      rmse       mae\n",
            "Train_ridge_opt  0.305598  1.612823  1.269970  1.021540\n",
            "Test_ridge_opt   0.137299  1.838494  1.355911  1.248701\n",
            "Train_rf_opt     0.442229  1.295483  1.138193  0.890323\n",
            "Test_rf_opt      0.046283  2.032457  1.425643  1.236558\n",
            "xg_train_opt     0.496094  1.170376  1.081839  0.824188\n",
            "xg_test_opt      0.172426  1.763636  1.328019  1.105785\n"
          ]
        }
      ]
    },
    {
      "cell_type": "code",
      "source": [
        "# Conclusion : The optimized XGBoost has been choosen for the best model based on its performance compared to others\n",
        "# For now, the XGBoost model cannot be implemented directly on the arcmap, so that the stand volume modeling has only been completed until the modeling stage. "
      ],
      "metadata": {
        "id": "WXOpSsIv1kQi"
      },
      "execution_count": null,
      "outputs": []
    },
    {
      "cell_type": "code",
      "source": [
        "# The optimal parameters\n",
        "\n",
        "xgb_opt.get_params"
      ],
      "metadata": {
        "colab": {
          "base_uri": "https://localhost:8080/"
        },
        "id": "lBhYOz0n3qd1",
        "outputId": "1a0dfa31-4be9-424c-d5a0-2a1c726ba6f6"
      },
      "execution_count": 167,
      "outputs": [
        {
          "output_type": "execute_result",
          "data": {
            "text/plain": [
              "<bound method XGBModel.get_params of XGBRegressor(gamma=4, learning_rate=0.02, random_state=42, reg_lambda=2,\n",
              "             verbosity=0)>"
            ]
          },
          "metadata": {},
          "execution_count": 167
        }
      ]
    }
  ]
}